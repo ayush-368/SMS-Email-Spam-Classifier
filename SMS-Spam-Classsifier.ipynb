{
 "cells": [
  {
   "cell_type": "code",
   "execution_count": 1,
   "id": "34e3cdba",
   "metadata": {},
   "outputs": [],
   "source": [
    "import pandas as pd\n",
    "import numpy as np"
   ]
  },
  {
   "cell_type": "code",
   "execution_count": 2,
   "id": "d31c4ded",
   "metadata": {},
   "outputs": [],
   "source": [
    "df = pd.read_csv('spam.csv',encoding = 'latin-1')"
   ]
  },
  {
   "cell_type": "code",
   "execution_count": 3,
   "id": "93eeeeae",
   "metadata": {},
   "outputs": [
    {
     "data": {
      "text/html": [
       "<div>\n",
       "<style scoped>\n",
       "    .dataframe tbody tr th:only-of-type {\n",
       "        vertical-align: middle;\n",
       "    }\n",
       "\n",
       "    .dataframe tbody tr th {\n",
       "        vertical-align: top;\n",
       "    }\n",
       "\n",
       "    .dataframe thead th {\n",
       "        text-align: right;\n",
       "    }\n",
       "</style>\n",
       "<table border=\"1\" class=\"dataframe\">\n",
       "  <thead>\n",
       "    <tr style=\"text-align: right;\">\n",
       "      <th></th>\n",
       "      <th>v1</th>\n",
       "      <th>v2</th>\n",
       "      <th>Unnamed: 2</th>\n",
       "      <th>Unnamed: 3</th>\n",
       "      <th>Unnamed: 4</th>\n",
       "    </tr>\n",
       "  </thead>\n",
       "  <tbody>\n",
       "    <tr>\n",
       "      <th>0</th>\n",
       "      <td>ham</td>\n",
       "      <td>Go until jurong point, crazy.. Available only ...</td>\n",
       "      <td>NaN</td>\n",
       "      <td>NaN</td>\n",
       "      <td>NaN</td>\n",
       "    </tr>\n",
       "    <tr>\n",
       "      <th>1</th>\n",
       "      <td>ham</td>\n",
       "      <td>Ok lar... Joking wif u oni...</td>\n",
       "      <td>NaN</td>\n",
       "      <td>NaN</td>\n",
       "      <td>NaN</td>\n",
       "    </tr>\n",
       "    <tr>\n",
       "      <th>2</th>\n",
       "      <td>spam</td>\n",
       "      <td>Free entry in 2 a wkly comp to win FA Cup fina...</td>\n",
       "      <td>NaN</td>\n",
       "      <td>NaN</td>\n",
       "      <td>NaN</td>\n",
       "    </tr>\n",
       "    <tr>\n",
       "      <th>3</th>\n",
       "      <td>ham</td>\n",
       "      <td>U dun say so early hor... U c already then say...</td>\n",
       "      <td>NaN</td>\n",
       "      <td>NaN</td>\n",
       "      <td>NaN</td>\n",
       "    </tr>\n",
       "    <tr>\n",
       "      <th>4</th>\n",
       "      <td>ham</td>\n",
       "      <td>Nah I don't think he goes to usf, he lives aro...</td>\n",
       "      <td>NaN</td>\n",
       "      <td>NaN</td>\n",
       "      <td>NaN</td>\n",
       "    </tr>\n",
       "  </tbody>\n",
       "</table>\n",
       "</div>"
      ],
      "text/plain": [
       "     v1                                                 v2 Unnamed: 2   \n",
       "0   ham  Go until jurong point, crazy.. Available only ...        NaN  \\\n",
       "1   ham                      Ok lar... Joking wif u oni...        NaN   \n",
       "2  spam  Free entry in 2 a wkly comp to win FA Cup fina...        NaN   \n",
       "3   ham  U dun say so early hor... U c already then say...        NaN   \n",
       "4   ham  Nah I don't think he goes to usf, he lives aro...        NaN   \n",
       "\n",
       "  Unnamed: 3 Unnamed: 4  \n",
       "0        NaN        NaN  \n",
       "1        NaN        NaN  \n",
       "2        NaN        NaN  \n",
       "3        NaN        NaN  \n",
       "4        NaN        NaN  "
      ]
     },
     "execution_count": 3,
     "metadata": {},
     "output_type": "execute_result"
    }
   ],
   "source": [
    "df.head()"
   ]
  },
  {
   "cell_type": "code",
   "execution_count": 4,
   "id": "f4ba27ca",
   "metadata": {},
   "outputs": [
    {
     "name": "stdout",
     "output_type": "stream",
     "text": [
      "<class 'pandas.core.frame.DataFrame'>\n",
      "RangeIndex: 5572 entries, 0 to 5571\n",
      "Data columns (total 5 columns):\n",
      " #   Column      Non-Null Count  Dtype \n",
      "---  ------      --------------  ----- \n",
      " 0   v1          5572 non-null   object\n",
      " 1   v2          5572 non-null   object\n",
      " 2   Unnamed: 2  50 non-null     object\n",
      " 3   Unnamed: 3  12 non-null     object\n",
      " 4   Unnamed: 4  6 non-null      object\n",
      "dtypes: object(5)\n",
      "memory usage: 217.8+ KB\n"
     ]
    }
   ],
   "source": [
    "df.info()"
   ]
  },
  {
   "cell_type": "code",
   "execution_count": 5,
   "id": "71d7696f",
   "metadata": {},
   "outputs": [
    {
     "data": {
      "text/html": [
       "<div>\n",
       "<style scoped>\n",
       "    .dataframe tbody tr th:only-of-type {\n",
       "        vertical-align: middle;\n",
       "    }\n",
       "\n",
       "    .dataframe tbody tr th {\n",
       "        vertical-align: top;\n",
       "    }\n",
       "\n",
       "    .dataframe thead th {\n",
       "        text-align: right;\n",
       "    }\n",
       "</style>\n",
       "<table border=\"1\" class=\"dataframe\">\n",
       "  <thead>\n",
       "    <tr style=\"text-align: right;\">\n",
       "      <th></th>\n",
       "      <th>v1</th>\n",
       "      <th>v2</th>\n",
       "      <th>Unnamed: 2</th>\n",
       "      <th>Unnamed: 3</th>\n",
       "      <th>Unnamed: 4</th>\n",
       "    </tr>\n",
       "  </thead>\n",
       "  <tbody>\n",
       "    <tr>\n",
       "      <th>95</th>\n",
       "      <td>spam</td>\n",
       "      <td>Your free ringtone is waiting to be collected....</td>\n",
       "      <td>PO Box 5249</td>\n",
       "      <td>MK17 92H. 450Ppw 16\"</td>\n",
       "      <td>NaN</td>\n",
       "    </tr>\n",
       "    <tr>\n",
       "      <th>281</th>\n",
       "      <td>ham</td>\n",
       "      <td>\\Wen u miss someone</td>\n",
       "      <td>the person is definitely special for u..... B...</td>\n",
       "      <td>why to miss them</td>\n",
       "      <td>just Keep-in-touch\\\" gdeve..\"</td>\n",
       "    </tr>\n",
       "    <tr>\n",
       "      <th>444</th>\n",
       "      <td>ham</td>\n",
       "      <td>\\HEY HEY WERETHE MONKEESPEOPLE SAY WE MONKEYAR...</td>\n",
       "      <td>HOWU DOIN? FOUNDURSELF A JOBYET SAUSAGE?LOVE ...</td>\n",
       "      <td>NaN</td>\n",
       "      <td>NaN</td>\n",
       "    </tr>\n",
       "    <tr>\n",
       "      <th>671</th>\n",
       "      <td>spam</td>\n",
       "      <td>SMS. ac sun0819 posts HELLO:\\You seem cool</td>\n",
       "      <td>wanted to say hi. HI!!!\\\" Stop? Send STOP to ...</td>\n",
       "      <td>NaN</td>\n",
       "      <td>NaN</td>\n",
       "    </tr>\n",
       "    <tr>\n",
       "      <th>710</th>\n",
       "      <td>ham</td>\n",
       "      <td>Height of Confidence: All the Aeronautics prof...</td>\n",
       "      <td>this wont even start........ Datz confidence..\"</td>\n",
       "      <td>NaN</td>\n",
       "      <td>NaN</td>\n",
       "    </tr>\n",
       "    <tr>\n",
       "      <th>899</th>\n",
       "      <td>spam</td>\n",
       "      <td>Your free ringtone is waiting to be collected....</td>\n",
       "      <td>PO Box 5249</td>\n",
       "      <td>MK17 92H. 450Ppw 16\"</td>\n",
       "      <td>NaN</td>\n",
       "    </tr>\n",
       "    <tr>\n",
       "      <th>1038</th>\n",
       "      <td>ham</td>\n",
       "      <td>Edison has rightly said, \\A fool can ask more ...</td>\n",
       "      <td>GN</td>\n",
       "      <td>GE</td>\n",
       "      <td>GNT:-)\"</td>\n",
       "    </tr>\n",
       "    <tr>\n",
       "      <th>1127</th>\n",
       "      <td>ham</td>\n",
       "      <td>Height of \\Oh shit....!!\\\" situation: A guy th...</td>\n",
       "      <td>.;-):-D\"</td>\n",
       "      <td>NaN</td>\n",
       "      <td>NaN</td>\n",
       "    </tr>\n",
       "    <tr>\n",
       "      <th>1266</th>\n",
       "      <td>ham</td>\n",
       "      <td>\\Hey sorry I didntgive ya a a bellearlier hunny</td>\n",
       "      <td>just been in bedbut mite go 2 thepub l8tr if u...</td>\n",
       "      <td>NaN</td>\n",
       "      <td>NaN</td>\n",
       "    </tr>\n",
       "    <tr>\n",
       "      <th>1384</th>\n",
       "      <td>ham</td>\n",
       "      <td>Storming msg: Wen u lift d phne, u say \\HELLO\\...</td>\n",
       "      <td>bt not his girlfrnd... G o o d n i g h t . . .@\"</td>\n",
       "      <td>NaN</td>\n",
       "      <td>NaN</td>\n",
       "    </tr>\n",
       "    <tr>\n",
       "      <th>1428</th>\n",
       "      <td>ham</td>\n",
       "      <td>Tell you what, if you make a little spreadshee...</td>\n",
       "      <td>I'll come up\"</td>\n",
       "      <td>NaN</td>\n",
       "      <td>NaN</td>\n",
       "    </tr>\n",
       "    <tr>\n",
       "      <th>1559</th>\n",
       "      <td>ham</td>\n",
       "      <td>Single line with a big meaning::::: \\Miss anyt...</td>\n",
       "      <td>don't miss ur best life for anything... Gud n...</td>\n",
       "      <td>NaN</td>\n",
       "      <td>NaN</td>\n",
       "    </tr>\n",
       "    <tr>\n",
       "      <th>1637</th>\n",
       "      <td>spam</td>\n",
       "      <td>0A$NETWORKS allow companies to bill for SMS, s...</td>\n",
       "      <td>just as a shop has to give a guarantee on wha...</td>\n",
       "      <td>NaN</td>\n",
       "      <td>NaN</td>\n",
       "    </tr>\n",
       "    <tr>\n",
       "      <th>1669</th>\n",
       "      <td>ham</td>\n",
       "      <td>Very hurting n meaningful lines ever: \\I compr...</td>\n",
       "      <td>But at d end my love compromised me for every...</td>\n",
       "      <td>NaN</td>\n",
       "      <td>NaN</td>\n",
       "    </tr>\n",
       "    <tr>\n",
       "      <th>1675</th>\n",
       "      <td>ham</td>\n",
       "      <td>Painful words- \\I thought being Happy was the ...</td>\n",
       "      <td>the toughest is acting Happy with all unspoke...</td>\n",
       "      <td>NaN</td>\n",
       "      <td>NaN</td>\n",
       "    </tr>\n",
       "    <tr>\n",
       "      <th>1936</th>\n",
       "      <td>ham</td>\n",
       "      <td>My planning usually stops at \\find hella weed</td>\n",
       "      <td>smoke hella weed\\\"\"</td>\n",
       "      <td>NaN</td>\n",
       "      <td>NaN</td>\n",
       "    </tr>\n",
       "    <tr>\n",
       "      <th>1937</th>\n",
       "      <td>ham</td>\n",
       "      <td>The fact that you're cleaning shows you know w...</td>\n",
       "      <td>\\\" not \\\"what i need to do.\\\"\"</td>\n",
       "      <td>NaN</td>\n",
       "      <td>NaN</td>\n",
       "    </tr>\n",
       "    <tr>\n",
       "      <th>1997</th>\n",
       "      <td>ham</td>\n",
       "      <td>\\YEH I AM DEF UP4 SOMETHING SAT</td>\n",
       "      <td>JUST GOT PAYED2DAY &amp; I HAVBEEN GIVEN Aå£50 PAY...</td>\n",
       "      <td>NaN</td>\n",
       "      <td>NaN</td>\n",
       "    </tr>\n",
       "    <tr>\n",
       "      <th>2087</th>\n",
       "      <td>ham</td>\n",
       "      <td>\\alright babe</td>\n",
       "      <td>justthought iåÕd sayhey! how u doin?nearly th...</td>\n",
       "      <td>NaN</td>\n",
       "      <td>NaN</td>\n",
       "    </tr>\n",
       "    <tr>\n",
       "      <th>2170</th>\n",
       "      <td>ham</td>\n",
       "      <td>\\CAN I PLEASE COME UP NOW IMIN TOWN.DONTMATTER...</td>\n",
       "      <td>JUST REALLYNEED 2DOCD.PLEASE DONTPLEASE DONTIG...</td>\n",
       "      <td>U NO THECD ISV.IMPORTANT TOME 4 2MORO\\\"\"</td>\n",
       "      <td>NaN</td>\n",
       "    </tr>\n",
       "    <tr>\n",
       "      <th>2235</th>\n",
       "      <td>ham</td>\n",
       "      <td>\\Si.como no?!listened2the plaid album-quite gd...</td>\n",
       "      <td>u hav2hear it!c u sn xxxx\\\"\"</td>\n",
       "      <td>NaN</td>\n",
       "      <td>NaN</td>\n",
       "    </tr>\n",
       "    <tr>\n",
       "      <th>2255</th>\n",
       "      <td>ham</td>\n",
       "      <td>I just lov this line: \\Hurt me with the truth</td>\n",
       "      <td>I don't mind</td>\n",
       "      <td>i wil tolerat.bcs ur my someone..... But</td>\n",
       "      <td>Never comfort me with a lie\\\" gud ni8 and swe...</td>\n",
       "    </tr>\n",
       "    <tr>\n",
       "      <th>2406</th>\n",
       "      <td>ham</td>\n",
       "      <td>One of best dialogue in cute reltnship..!! \\We...</td>\n",
       "      <td>Dont Come Near My Body..!! Bcoz My Hands May ...</td>\n",
       "      <td>NaN</td>\n",
       "      <td>NaN</td>\n",
       "    </tr>\n",
       "    <tr>\n",
       "      <th>2791</th>\n",
       "      <td>ham</td>\n",
       "      <td>Û_ we r stayin here an extra week, back next ...</td>\n",
       "      <td>Well there's still a bit left if you guys want...</td>\n",
       "      <td>NaN</td>\n",
       "      <td>NaN</td>\n",
       "    </tr>\n",
       "    <tr>\n",
       "      <th>2970</th>\n",
       "      <td>ham</td>\n",
       "      <td>Height of Confidence: All the Aeronautics prof...</td>\n",
       "      <td>this wont even start........ Datz confidence..\"</td>\n",
       "      <td>NaN</td>\n",
       "      <td>NaN</td>\n",
       "    </tr>\n",
       "    <tr>\n",
       "      <th>3110</th>\n",
       "      <td>ham</td>\n",
       "      <td>Short But Cute : \\ Be a good person</td>\n",
       "      <td>but dont try to prove\\\" ..... Gud mrng...\"</td>\n",
       "      <td>NaN</td>\n",
       "      <td>NaN</td>\n",
       "    </tr>\n",
       "    <tr>\n",
       "      <th>3145</th>\n",
       "      <td>ham</td>\n",
       "      <td>\\SHIT BABE.. THASA BIT MESSED UP.YEH</td>\n",
       "      <td>SHE SHUDVETOLD U. DID URGRAN KNOW?NEWAY</td>\n",
       "      <td>ILLSPEAK 2 U2MORO WEN IM NOT ASLEEP...\\\"\"</td>\n",
       "      <td>NaN</td>\n",
       "    </tr>\n",
       "    <tr>\n",
       "      <th>3239</th>\n",
       "      <td>ham</td>\n",
       "      <td>A cute thought for friendship: \\Its not necess...</td>\n",
       "      <td>but watever u shared should be true\\\"....\"</td>\n",
       "      <td>NaN</td>\n",
       "      <td>NaN</td>\n",
       "    </tr>\n",
       "    <tr>\n",
       "      <th>3506</th>\n",
       "      <td>ham</td>\n",
       "      <td>Two fundamentals of cool life: \\Walk</td>\n",
       "      <td>like you are the KING\\\"...! OR \\\"Walk like yo...</td>\n",
       "      <td>whoever is the KING\\\"!... Gud nyt\"</td>\n",
       "      <td>NaN</td>\n",
       "    </tr>\n",
       "    <tr>\n",
       "      <th>3525</th>\n",
       "      <td>ham</td>\n",
       "      <td>\\HEY BABE! FAR 2 SPUN-OUT 2 SPK AT DA MO... DE...</td>\n",
       "      <td>HAD A COOL NYTHO</td>\n",
       "      <td>TX 4 FONIN HON</td>\n",
       "      <td>CALL 2MWEN IM BK FRMCLOUD 9! J X\\\"\"</td>\n",
       "    </tr>\n",
       "    <tr>\n",
       "      <th>3547</th>\n",
       "      <td>ham</td>\n",
       "      <td>Single line with a big meaning::::: \\Miss anyt...</td>\n",
       "      <td>don't miss ur best life for anything... Gud n...</td>\n",
       "      <td>NaN</td>\n",
       "      <td>NaN</td>\n",
       "    </tr>\n",
       "    <tr>\n",
       "      <th>3640</th>\n",
       "      <td>spam</td>\n",
       "      <td>You can stop further club tones by replying \\S...</td>\n",
       "      <td>PO Box 1146 MK45 2WT (2/3)\"</td>\n",
       "      <td>NaN</td>\n",
       "      <td>NaN</td>\n",
       "    </tr>\n",
       "    <tr>\n",
       "      <th>3758</th>\n",
       "      <td>ham</td>\n",
       "      <td>GOD ASKED, \\What is forgiveness?\\\" A little ch...</td>\n",
       "      <td>\\\"It is d wonderful fruit that a tree gives w...</td>\n",
       "      <td>NaN</td>\n",
       "      <td>NaN</td>\n",
       "    </tr>\n",
       "    <tr>\n",
       "      <th>3788</th>\n",
       "      <td>ham</td>\n",
       "      <td>Are you sure you don't mean \\get here</td>\n",
       "      <td>we made you hold all the weed\\\"\"</td>\n",
       "      <td>NaN</td>\n",
       "      <td>NaN</td>\n",
       "    </tr>\n",
       "    <tr>\n",
       "      <th>3793</th>\n",
       "      <td>ham</td>\n",
       "      <td>Short But Cute: \\Be a good person</td>\n",
       "      <td>but dont try to prove it..\\\" .Gud noon....\"</td>\n",
       "      <td>NaN</td>\n",
       "      <td>NaN</td>\n",
       "    </tr>\n",
       "    <tr>\n",
       "      <th>3881</th>\n",
       "      <td>ham</td>\n",
       "      <td>Short But Cute: \\Be a good person</td>\n",
       "      <td>but dont try to prove it..\\\" .Gud noon....\"</td>\n",
       "      <td>NaN</td>\n",
       "      <td>NaN</td>\n",
       "    </tr>\n",
       "    <tr>\n",
       "      <th>4130</th>\n",
       "      <td>ham</td>\n",
       "      <td>\\Its Ur luck to Love someone. Its Ur fortune t...</td>\n",
       "      <td>its a miracle to Love a person who can't Love...</td>\n",
       "      <td>NaN</td>\n",
       "      <td>NaN</td>\n",
       "    </tr>\n",
       "    <tr>\n",
       "      <th>4224</th>\n",
       "      <td>ham</td>\n",
       "      <td>\\The world suffers a lot... Not because of the...</td>\n",
       "      <td>Gud night....\"</td>\n",
       "      <td>NaN</td>\n",
       "      <td>NaN</td>\n",
       "    </tr>\n",
       "    <tr>\n",
       "      <th>4454</th>\n",
       "      <td>ham</td>\n",
       "      <td>Storming msg: Wen u lift d phne, u say \\HELLO\\...</td>\n",
       "      <td>bt not his girlfrnd... G o o d n i g h t . . .@\"</td>\n",
       "      <td>NaN</td>\n",
       "      <td>NaN</td>\n",
       "    </tr>\n",
       "    <tr>\n",
       "      <th>4455</th>\n",
       "      <td>ham</td>\n",
       "      <td>If you want to mapquest it or something look u...</td>\n",
       "      <td>that's the tiny street where the parking lot is\"</td>\n",
       "      <td>NaN</td>\n",
       "      <td>NaN</td>\n",
       "    </tr>\n",
       "    <tr>\n",
       "      <th>4570</th>\n",
       "      <td>ham</td>\n",
       "      <td>\\CHA QUITEAMUZING THATåÕSCOOL BABE</td>\n",
       "      <td>PROBPOP IN &amp; CU SATTHEN HUNNY 4BREKKIE! LOVE J...</td>\n",
       "      <td>NaN</td>\n",
       "      <td>NaN</td>\n",
       "    </tr>\n",
       "    <tr>\n",
       "      <th>4601</th>\n",
       "      <td>ham</td>\n",
       "      <td>\\Hey j! r u feeling any better</td>\n",
       "      <td>hopeSo hunny. i amnow feelin ill &amp; ithink i m...</td>\n",
       "      <td>NaN</td>\n",
       "      <td>NaN</td>\n",
       "    </tr>\n",
       "    <tr>\n",
       "      <th>4668</th>\n",
       "      <td>ham</td>\n",
       "      <td>When I was born, GOD said, \\Oh No! Another IDI...</td>\n",
       "      <td>GOD said</td>\n",
       "      <td>\\\"OH No! COMPETITION\\\". Who knew</td>\n",
       "      <td>one day these two will become FREINDS FOREVER!\"</td>\n",
       "    </tr>\n",
       "    <tr>\n",
       "      <th>4859</th>\n",
       "      <td>ham</td>\n",
       "      <td>\\Response\\\" is one of d powerful weapon 2 occu...</td>\n",
       "      <td>always give response 2 who cares 4 U\\\"... Gud...</td>\n",
       "      <td>NaN</td>\n",
       "      <td>NaN</td>\n",
       "    </tr>\n",
       "    <tr>\n",
       "      <th>4992</th>\n",
       "      <td>ham</td>\n",
       "      <td>\\HEY KATE</td>\n",
       "      <td>HOPE UR OK... WILL GIVE U A BUZ WEDLUNCH. GO ...</td>\n",
       "      <td>NaN</td>\n",
       "      <td>NaN</td>\n",
       "    </tr>\n",
       "    <tr>\n",
       "      <th>5048</th>\n",
       "      <td>ham</td>\n",
       "      <td>Edison has rightly said, \\A fool can ask more ...</td>\n",
       "      <td>GN</td>\n",
       "      <td>GE</td>\n",
       "      <td>GNT:-)\"</td>\n",
       "    </tr>\n",
       "    <tr>\n",
       "      <th>5079</th>\n",
       "      <td>ham</td>\n",
       "      <td>\\Keep ur problems in ur heart</td>\n",
       "      <td>b'coz nobody will fight for u. Only u &amp;amp; u...</td>\n",
       "      <td>NaN</td>\n",
       "      <td>NaN</td>\n",
       "    </tr>\n",
       "    <tr>\n",
       "      <th>5081</th>\n",
       "      <td>ham</td>\n",
       "      <td>\\HI BABE UAWAKE?FEELLIKW SHIT.JUSTFOUND OUT VI...</td>\n",
       "      <td>DEVIOUSBITCH.ANYWAY</td>\n",
       "      <td>IåÕL CALL U\\\"\"</td>\n",
       "      <td>NaN</td>\n",
       "    </tr>\n",
       "    <tr>\n",
       "      <th>5264</th>\n",
       "      <td>ham</td>\n",
       "      <td>Storming msg: Wen u lift d phne, u say \\HELLO\\...</td>\n",
       "      <td>bt not his girlfrnd... G o o d n i g h t . . .@\"</td>\n",
       "      <td>NaN</td>\n",
       "      <td>NaN</td>\n",
       "    </tr>\n",
       "    <tr>\n",
       "      <th>5268</th>\n",
       "      <td>ham</td>\n",
       "      <td>\\ER</td>\n",
       "      <td>ENJOYIN INDIANS AT THE MO..yeP. SaLL gOoD Heh...</td>\n",
       "      <td>NaN</td>\n",
       "      <td>NaN</td>\n",
       "    </tr>\n",
       "  </tbody>\n",
       "</table>\n",
       "</div>"
      ],
      "text/plain": [
       "        v1                                                 v2   \n",
       "95    spam  Your free ringtone is waiting to be collected....  \\\n",
       "281    ham                                \\Wen u miss someone   \n",
       "444    ham  \\HEY HEY WERETHE MONKEESPEOPLE SAY WE MONKEYAR...   \n",
       "671   spam         SMS. ac sun0819 posts HELLO:\\You seem cool   \n",
       "710    ham  Height of Confidence: All the Aeronautics prof...   \n",
       "899   spam  Your free ringtone is waiting to be collected....   \n",
       "1038   ham  Edison has rightly said, \\A fool can ask more ...   \n",
       "1127   ham  Height of \\Oh shit....!!\\\" situation: A guy th...   \n",
       "1266   ham    \\Hey sorry I didntgive ya a a bellearlier hunny   \n",
       "1384   ham  Storming msg: Wen u lift d phne, u say \\HELLO\\...   \n",
       "1428   ham  Tell you what, if you make a little spreadshee...   \n",
       "1559   ham  Single line with a big meaning::::: \\Miss anyt...   \n",
       "1637  spam  0A$NETWORKS allow companies to bill for SMS, s...   \n",
       "1669   ham  Very hurting n meaningful lines ever: \\I compr...   \n",
       "1675   ham  Painful words- \\I thought being Happy was the ...   \n",
       "1936   ham      My planning usually stops at \\find hella weed   \n",
       "1937   ham  The fact that you're cleaning shows you know w...   \n",
       "1997   ham                    \\YEH I AM DEF UP4 SOMETHING SAT   \n",
       "2087   ham                                      \\alright babe   \n",
       "2170   ham  \\CAN I PLEASE COME UP NOW IMIN TOWN.DONTMATTER...   \n",
       "2235   ham  \\Si.como no?!listened2the plaid album-quite gd...   \n",
       "2255   ham      I just lov this line: \\Hurt me with the truth   \n",
       "2406   ham  One of best dialogue in cute reltnship..!! \\We...   \n",
       "2791   ham  Û_ we r stayin here an extra week, back next ...   \n",
       "2970   ham  Height of Confidence: All the Aeronautics prof...   \n",
       "3110   ham               Short But Cute : \\ Be a good person    \n",
       "3145   ham               \\SHIT BABE.. THASA BIT MESSED UP.YEH   \n",
       "3239   ham  A cute thought for friendship: \\Its not necess...   \n",
       "3506   ham               Two fundamentals of cool life: \\Walk   \n",
       "3525   ham  \\HEY BABE! FAR 2 SPUN-OUT 2 SPK AT DA MO... DE...   \n",
       "3547   ham  Single line with a big meaning::::: \\Miss anyt...   \n",
       "3640  spam  You can stop further club tones by replying \\S...   \n",
       "3758   ham  GOD ASKED, \\What is forgiveness?\\\" A little ch...   \n",
       "3788   ham              Are you sure you don't mean \\get here   \n",
       "3793   ham                  Short But Cute: \\Be a good person   \n",
       "3881   ham                  Short But Cute: \\Be a good person   \n",
       "4130   ham  \\Its Ur luck to Love someone. Its Ur fortune t...   \n",
       "4224   ham  \\The world suffers a lot... Not because of the...   \n",
       "4454   ham  Storming msg: Wen u lift d phne, u say \\HELLO\\...   \n",
       "4455   ham  If you want to mapquest it or something look u...   \n",
       "4570   ham                 \\CHA QUITEAMUZING THATåÕSCOOL BABE   \n",
       "4601   ham                     \\Hey j! r u feeling any better   \n",
       "4668   ham  When I was born, GOD said, \\Oh No! Another IDI...   \n",
       "4859   ham  \\Response\\\" is one of d powerful weapon 2 occu...   \n",
       "4992   ham                                          \\HEY KATE   \n",
       "5048   ham  Edison has rightly said, \\A fool can ask more ...   \n",
       "5079   ham                      \\Keep ur problems in ur heart   \n",
       "5081   ham  \\HI BABE UAWAKE?FEELLIKW SHIT.JUSTFOUND OUT VI...   \n",
       "5264   ham  Storming msg: Wen u lift d phne, u say \\HELLO\\...   \n",
       "5268   ham                                                \\ER   \n",
       "\n",
       "                                             Unnamed: 2   \n",
       "95                                          PO Box 5249  \\\n",
       "281    the person is definitely special for u..... B...   \n",
       "444    HOWU DOIN? FOUNDURSELF A JOBYET SAUSAGE?LOVE ...   \n",
       "671    wanted to say hi. HI!!!\\\" Stop? Send STOP to ...   \n",
       "710     this wont even start........ Datz confidence..\"   \n",
       "899                                         PO Box 5249   \n",
       "1038                                                 GN   \n",
       "1127                                           .;-):-D\"   \n",
       "1266  just been in bedbut mite go 2 thepub l8tr if u...   \n",
       "1384   bt not his girlfrnd... G o o d n i g h t . . .@\"   \n",
       "1428                                      I'll come up\"   \n",
       "1559   don't miss ur best life for anything... Gud n...   \n",
       "1637   just as a shop has to give a guarantee on wha...   \n",
       "1669   But at d end my love compromised me for every...   \n",
       "1675   the toughest is acting Happy with all unspoke...   \n",
       "1936                                smoke hella weed\\\"\"   \n",
       "1937                     \\\" not \\\"what i need to do.\\\"\"   \n",
       "1997  JUST GOT PAYED2DAY & I HAVBEEN GIVEN Aå£50 PAY...   \n",
       "2087   justthought iåÕd sayhey! how u doin?nearly th...   \n",
       "2170  JUST REALLYNEED 2DOCD.PLEASE DONTPLEASE DONTIG...   \n",
       "2235                       u hav2hear it!c u sn xxxx\\\"\"   \n",
       "2255                                       I don't mind   \n",
       "2406   Dont Come Near My Body..!! Bcoz My Hands May ...   \n",
       "2791  Well there's still a bit left if you guys want...   \n",
       "2970    this wont even start........ Datz confidence..\"   \n",
       "3110         but dont try to prove\\\" ..... Gud mrng...\"   \n",
       "3145            SHE SHUDVETOLD U. DID URGRAN KNOW?NEWAY   \n",
       "3239         but watever u shared should be true\\\"....\"   \n",
       "3506   like you are the KING\\\"...! OR \\\"Walk like yo...   \n",
       "3525                                   HAD A COOL NYTHO   \n",
       "3547   don't miss ur best life for anything... Gud n...   \n",
       "3640                        PO Box 1146 MK45 2WT (2/3)\"   \n",
       "3758   \\\"It is d wonderful fruit that a tree gives w...   \n",
       "3788                   we made you hold all the weed\\\"\"   \n",
       "3793        but dont try to prove it..\\\" .Gud noon....\"   \n",
       "3881        but dont try to prove it..\\\" .Gud noon....\"   \n",
       "4130   its a miracle to Love a person who can't Love...   \n",
       "4224                                     Gud night....\"   \n",
       "4454   bt not his girlfrnd... G o o d n i g h t . . .@\"   \n",
       "4455   that's the tiny street where the parking lot is\"   \n",
       "4570  PROBPOP IN & CU SATTHEN HUNNY 4BREKKIE! LOVE J...   \n",
       "4601   hopeSo hunny. i amnow feelin ill & ithink i m...   \n",
       "4668                                           GOD said   \n",
       "4859   always give response 2 who cares 4 U\\\"... Gud...   \n",
       "4992   HOPE UR OK... WILL GIVE U A BUZ WEDLUNCH. GO ...   \n",
       "5048                                                 GN   \n",
       "5079   b'coz nobody will fight for u. Only u &amp; u...   \n",
       "5081                                DEVIOUSBITCH.ANYWAY   \n",
       "5264   bt not his girlfrnd... G o o d n i g h t . . .@\"   \n",
       "5268   ENJOYIN INDIANS AT THE MO..yeP. SaLL gOoD Heh...   \n",
       "\n",
       "                                      Unnamed: 3   \n",
       "95                          MK17 92H. 450Ppw 16\"  \\\n",
       "281                             why to miss them   \n",
       "444                                          NaN   \n",
       "671                                          NaN   \n",
       "710                                          NaN   \n",
       "899                         MK17 92H. 450Ppw 16\"   \n",
       "1038                                          GE   \n",
       "1127                                         NaN   \n",
       "1266                                         NaN   \n",
       "1384                                         NaN   \n",
       "1428                                         NaN   \n",
       "1559                                         NaN   \n",
       "1637                                         NaN   \n",
       "1669                                         NaN   \n",
       "1675                                         NaN   \n",
       "1936                                         NaN   \n",
       "1937                                         NaN   \n",
       "1997                                         NaN   \n",
       "2087                                         NaN   \n",
       "2170    U NO THECD ISV.IMPORTANT TOME 4 2MORO\\\"\"   \n",
       "2235                                         NaN   \n",
       "2255    i wil tolerat.bcs ur my someone..... But   \n",
       "2406                                         NaN   \n",
       "2791                                         NaN   \n",
       "2970                                         NaN   \n",
       "3110                                         NaN   \n",
       "3145   ILLSPEAK 2 U2MORO WEN IM NOT ASLEEP...\\\"\"   \n",
       "3239                                         NaN   \n",
       "3506          whoever is the KING\\\"!... Gud nyt\"   \n",
       "3525                              TX 4 FONIN HON   \n",
       "3547                                         NaN   \n",
       "3640                                         NaN   \n",
       "3758                                         NaN   \n",
       "3788                                         NaN   \n",
       "3793                                         NaN   \n",
       "3881                                         NaN   \n",
       "4130                                         NaN   \n",
       "4224                                         NaN   \n",
       "4454                                         NaN   \n",
       "4455                                         NaN   \n",
       "4570                                         NaN   \n",
       "4601                                         NaN   \n",
       "4668            \\\"OH No! COMPETITION\\\". Who knew   \n",
       "4859                                         NaN   \n",
       "4992                                         NaN   \n",
       "5048                                          GE   \n",
       "5079                                         NaN   \n",
       "5081                              IåÕL CALL U\\\"\"   \n",
       "5264                                         NaN   \n",
       "5268                                         NaN   \n",
       "\n",
       "                                             Unnamed: 4  \n",
       "95                                                  NaN  \n",
       "281                       just Keep-in-touch\\\" gdeve..\"  \n",
       "444                                                 NaN  \n",
       "671                                                 NaN  \n",
       "710                                                 NaN  \n",
       "899                                                 NaN  \n",
       "1038                                            GNT:-)\"  \n",
       "1127                                                NaN  \n",
       "1266                                                NaN  \n",
       "1384                                                NaN  \n",
       "1428                                                NaN  \n",
       "1559                                                NaN  \n",
       "1637                                                NaN  \n",
       "1669                                                NaN  \n",
       "1675                                                NaN  \n",
       "1936                                                NaN  \n",
       "1937                                                NaN  \n",
       "1997                                                NaN  \n",
       "2087                                                NaN  \n",
       "2170                                                NaN  \n",
       "2235                                                NaN  \n",
       "2255   Never comfort me with a lie\\\" gud ni8 and swe...  \n",
       "2406                                                NaN  \n",
       "2791                                                NaN  \n",
       "2970                                                NaN  \n",
       "3110                                                NaN  \n",
       "3145                                                NaN  \n",
       "3239                                                NaN  \n",
       "3506                                                NaN  \n",
       "3525                CALL 2MWEN IM BK FRMCLOUD 9! J X\\\"\"  \n",
       "3547                                                NaN  \n",
       "3640                                                NaN  \n",
       "3758                                                NaN  \n",
       "3788                                                NaN  \n",
       "3793                                                NaN  \n",
       "3881                                                NaN  \n",
       "4130                                                NaN  \n",
       "4224                                                NaN  \n",
       "4454                                                NaN  \n",
       "4455                                                NaN  \n",
       "4570                                                NaN  \n",
       "4601                                                NaN  \n",
       "4668    one day these two will become FREINDS FOREVER!\"  \n",
       "4859                                                NaN  \n",
       "4992                                                NaN  \n",
       "5048                                            GNT:-)\"  \n",
       "5079                                                NaN  \n",
       "5081                                                NaN  \n",
       "5264                                                NaN  \n",
       "5268                                                NaN  "
      ]
     },
     "execution_count": 5,
     "metadata": {},
     "output_type": "execute_result"
    }
   ],
   "source": [
    "df[df['Unnamed: 2'].isna()==False]"
   ]
  },
  {
   "cell_type": "code",
   "execution_count": 6,
   "id": "ee51567d",
   "metadata": {},
   "outputs": [],
   "source": [
    "df = df.drop(columns = ['Unnamed: 2','Unnamed: 3','Unnamed: 4'])"
   ]
  },
  {
   "cell_type": "code",
   "execution_count": 7,
   "id": "4ddaa7dd",
   "metadata": {},
   "outputs": [
    {
     "data": {
      "text/html": [
       "<div>\n",
       "<style scoped>\n",
       "    .dataframe tbody tr th:only-of-type {\n",
       "        vertical-align: middle;\n",
       "    }\n",
       "\n",
       "    .dataframe tbody tr th {\n",
       "        vertical-align: top;\n",
       "    }\n",
       "\n",
       "    .dataframe thead th {\n",
       "        text-align: right;\n",
       "    }\n",
       "</style>\n",
       "<table border=\"1\" class=\"dataframe\">\n",
       "  <thead>\n",
       "    <tr style=\"text-align: right;\">\n",
       "      <th></th>\n",
       "      <th>v1</th>\n",
       "      <th>v2</th>\n",
       "    </tr>\n",
       "  </thead>\n",
       "  <tbody>\n",
       "    <tr>\n",
       "      <th>0</th>\n",
       "      <td>ham</td>\n",
       "      <td>Go until jurong point, crazy.. Available only ...</td>\n",
       "    </tr>\n",
       "    <tr>\n",
       "      <th>1</th>\n",
       "      <td>ham</td>\n",
       "      <td>Ok lar... Joking wif u oni...</td>\n",
       "    </tr>\n",
       "    <tr>\n",
       "      <th>2</th>\n",
       "      <td>spam</td>\n",
       "      <td>Free entry in 2 a wkly comp to win FA Cup fina...</td>\n",
       "    </tr>\n",
       "    <tr>\n",
       "      <th>3</th>\n",
       "      <td>ham</td>\n",
       "      <td>U dun say so early hor... U c already then say...</td>\n",
       "    </tr>\n",
       "    <tr>\n",
       "      <th>4</th>\n",
       "      <td>ham</td>\n",
       "      <td>Nah I don't think he goes to usf, he lives aro...</td>\n",
       "    </tr>\n",
       "  </tbody>\n",
       "</table>\n",
       "</div>"
      ],
      "text/plain": [
       "     v1                                                 v2\n",
       "0   ham  Go until jurong point, crazy.. Available only ...\n",
       "1   ham                      Ok lar... Joking wif u oni...\n",
       "2  spam  Free entry in 2 a wkly comp to win FA Cup fina...\n",
       "3   ham  U dun say so early hor... U c already then say...\n",
       "4   ham  Nah I don't think he goes to usf, he lives aro..."
      ]
     },
     "execution_count": 7,
     "metadata": {},
     "output_type": "execute_result"
    }
   ],
   "source": [
    "df.head()"
   ]
  },
  {
   "cell_type": "code",
   "execution_count": 8,
   "id": "592ae957",
   "metadata": {},
   "outputs": [
    {
     "data": {
      "text/plain": [
       "v1    0\n",
       "v2    0\n",
       "dtype: int64"
      ]
     },
     "execution_count": 8,
     "metadata": {},
     "output_type": "execute_result"
    }
   ],
   "source": [
    "df.isna().sum()"
   ]
  },
  {
   "cell_type": "code",
   "execution_count": 9,
   "id": "a62c20ef",
   "metadata": {},
   "outputs": [],
   "source": [
    "df = df.rename(columns = {'v1':'target','v2':'msg'})"
   ]
  },
  {
   "cell_type": "code",
   "execution_count": 10,
   "id": "88507116",
   "metadata": {},
   "outputs": [
    {
     "data": {
      "text/plain": [
       "403"
      ]
     },
     "execution_count": 10,
     "metadata": {},
     "output_type": "execute_result"
    }
   ],
   "source": [
    "df.duplicated().sum()"
   ]
  },
  {
   "cell_type": "code",
   "execution_count": 11,
   "id": "aaa22d6e",
   "metadata": {},
   "outputs": [],
   "source": [
    "df = df.drop_duplicates()"
   ]
  },
  {
   "cell_type": "code",
   "execution_count": 12,
   "id": "17312b0f",
   "metadata": {},
   "outputs": [
    {
     "data": {
      "text/html": [
       "<div>\n",
       "<style scoped>\n",
       "    .dataframe tbody tr th:only-of-type {\n",
       "        vertical-align: middle;\n",
       "    }\n",
       "\n",
       "    .dataframe tbody tr th {\n",
       "        vertical-align: top;\n",
       "    }\n",
       "\n",
       "    .dataframe thead th {\n",
       "        text-align: right;\n",
       "    }\n",
       "</style>\n",
       "<table border=\"1\" class=\"dataframe\">\n",
       "  <thead>\n",
       "    <tr style=\"text-align: right;\">\n",
       "      <th></th>\n",
       "      <th>target</th>\n",
       "      <th>msg</th>\n",
       "    </tr>\n",
       "  </thead>\n",
       "  <tbody>\n",
       "    <tr>\n",
       "      <th>0</th>\n",
       "      <td>ham</td>\n",
       "      <td>Go until jurong point, crazy.. Available only ...</td>\n",
       "    </tr>\n",
       "    <tr>\n",
       "      <th>1</th>\n",
       "      <td>ham</td>\n",
       "      <td>Ok lar... Joking wif u oni...</td>\n",
       "    </tr>\n",
       "    <tr>\n",
       "      <th>2</th>\n",
       "      <td>spam</td>\n",
       "      <td>Free entry in 2 a wkly comp to win FA Cup fina...</td>\n",
       "    </tr>\n",
       "    <tr>\n",
       "      <th>3</th>\n",
       "      <td>ham</td>\n",
       "      <td>U dun say so early hor... U c already then say...</td>\n",
       "    </tr>\n",
       "    <tr>\n",
       "      <th>4</th>\n",
       "      <td>ham</td>\n",
       "      <td>Nah I don't think he goes to usf, he lives aro...</td>\n",
       "    </tr>\n",
       "  </tbody>\n",
       "</table>\n",
       "</div>"
      ],
      "text/plain": [
       "  target                                                msg\n",
       "0    ham  Go until jurong point, crazy.. Available only ...\n",
       "1    ham                      Ok lar... Joking wif u oni...\n",
       "2   spam  Free entry in 2 a wkly comp to win FA Cup fina...\n",
       "3    ham  U dun say so early hor... U c already then say...\n",
       "4    ham  Nah I don't think he goes to usf, he lives aro..."
      ]
     },
     "execution_count": 12,
     "metadata": {},
     "output_type": "execute_result"
    }
   ],
   "source": [
    "df.head()"
   ]
  },
  {
   "cell_type": "code",
   "execution_count": 13,
   "id": "d62788aa",
   "metadata": {},
   "outputs": [],
   "source": [
    "from sklearn.preprocessing import LabelEncoder\n",
    "en = LabelEncoder()\n",
    "df['target'] = en.fit_transform(df['target'])"
   ]
  },
  {
   "cell_type": "code",
   "execution_count": 14,
   "id": "0ad4e848",
   "metadata": {},
   "outputs": [
    {
     "data": {
      "text/plain": [
       "target\n",
       "0    4516\n",
       "1     653\n",
       "Name: count, dtype: int64"
      ]
     },
     "execution_count": 14,
     "metadata": {},
     "output_type": "execute_result"
    }
   ],
   "source": [
    "df['target'].value_counts()"
   ]
  },
  {
   "cell_type": "code",
   "execution_count": 15,
   "id": "8774e9e1",
   "metadata": {},
   "outputs": [],
   "source": [
    "import matplotlib.pyplot as plt"
   ]
  },
  {
   "cell_type": "code",
   "execution_count": 16,
   "id": "c6255cea",
   "metadata": {},
   "outputs": [
    {
     "data": {
      "image/png": "[encoded data removed]",
      "text/plain": [
       "<Figure size 640x480 with 1 Axes>"
      ]
     },
     "metadata": {},
     "output_type": "display_data"
    }
   ],
   "source": [
    "plt.pie(df['target'].value_counts(),labels=['Ham','Spam'],autopct='%0.2f')\n",
    "plt.show()"
   ]
  },
  {
   "cell_type": "code",
   "execution_count": 17,
   "id": "cabe1e91",
   "metadata": {},
   "outputs": [],
   "source": [
    "df['num_char'] = df['msg'].apply(len)"
   ]
  },
  {
   "cell_type": "code",
   "execution_count": 18,
   "id": "85f93265",
   "metadata": {},
   "outputs": [],
   "source": [
    "import nltk"
   ]
  },
  {
   "cell_type": "code",
   "execution_count": 19,
   "id": "edb57927",
   "metadata": {},
   "outputs": [],
   "source": [
    "df['num_words'] = df['msg'].apply(lambda x:len(nltk.word_tokenize(x)))"
   ]
  },
  {
   "cell_type": "code",
   "execution_count": 20,
   "id": "a705a8bc",
   "metadata": {},
   "outputs": [],
   "source": [
    "df['num_sent'] = df['msg'].apply(lambda x:len(nltk.sent_tokenize(x)))"
   ]
  },
  {
   "cell_type": "code",
   "execution_count": 21,
   "id": "2b90c218",
   "metadata": {},
   "outputs": [
    {
     "data": {
      "text/html": [
       "<div>\n",
       "<style scoped>\n",
       "    .dataframe tbody tr th:only-of-type {\n",
       "        vertical-align: middle;\n",
       "    }\n",
       "\n",
       "    .dataframe tbody tr th {\n",
       "        vertical-align: top;\n",
       "    }\n",
       "\n",
       "    .dataframe thead th {\n",
       "        text-align: right;\n",
       "    }\n",
       "</style>\n",
       "<table border=\"1\" class=\"dataframe\">\n",
       "  <thead>\n",
       "    <tr style=\"text-align: right;\">\n",
       "      <th></th>\n",
       "      <th>target</th>\n",
       "      <th>msg</th>\n",
       "      <th>num_char</th>\n",
       "      <th>num_words</th>\n",
       "      <th>num_sent</th>\n",
       "    </tr>\n",
       "  </thead>\n",
       "  <tbody>\n",
       "    <tr>\n",
       "      <th>0</th>\n",
       "      <td>0</td>\n",
       "      <td>Go until jurong point, crazy.. Available only ...</td>\n",
       "      <td>111</td>\n",
       "      <td>24</td>\n",
       "      <td>2</td>\n",
       "    </tr>\n",
       "    <tr>\n",
       "      <th>1</th>\n",
       "      <td>0</td>\n",
       "      <td>Ok lar... Joking wif u oni...</td>\n",
       "      <td>29</td>\n",
       "      <td>8</td>\n",
       "      <td>2</td>\n",
       "    </tr>\n",
       "    <tr>\n",
       "      <th>2</th>\n",
       "      <td>1</td>\n",
       "      <td>Free entry in 2 a wkly comp to win FA Cup fina...</td>\n",
       "      <td>155</td>\n",
       "      <td>37</td>\n",
       "      <td>2</td>\n",
       "    </tr>\n",
       "    <tr>\n",
       "      <th>3</th>\n",
       "      <td>0</td>\n",
       "      <td>U dun say so early hor... U c already then say...</td>\n",
       "      <td>49</td>\n",
       "      <td>13</td>\n",
       "      <td>1</td>\n",
       "    </tr>\n",
       "    <tr>\n",
       "      <th>4</th>\n",
       "      <td>0</td>\n",
       "      <td>Nah I don't think he goes to usf, he lives aro...</td>\n",
       "      <td>61</td>\n",
       "      <td>15</td>\n",
       "      <td>1</td>\n",
       "    </tr>\n",
       "  </tbody>\n",
       "</table>\n",
       "</div>"
      ],
      "text/plain": [
       "   target                                                msg  num_char   \n",
       "0       0  Go until jurong point, crazy.. Available only ...       111  \\\n",
       "1       0                      Ok lar... Joking wif u oni...        29   \n",
       "2       1  Free entry in 2 a wkly comp to win FA Cup fina...       155   \n",
       "3       0  U dun say so early hor... U c already then say...        49   \n",
       "4       0  Nah I don't think he goes to usf, he lives aro...        61   \n",
       "\n",
       "   num_words  num_sent  \n",
       "0         24         2  \n",
       "1          8         2  \n",
       "2         37         2  \n",
       "3         13         1  \n",
       "4         15         1  "
      ]
     },
     "execution_count": 21,
     "metadata": {},
     "output_type": "execute_result"
    }
   ],
   "source": [
    "df.head()"
   ]
  },
  {
   "cell_type": "code",
   "execution_count": 22,
   "id": "e2489fd7",
   "metadata": {},
   "outputs": [
    {
     "data": {
      "text/html": [
       "<div>\n",
       "<style scoped>\n",
       "    .dataframe tbody tr th:only-of-type {\n",
       "        vertical-align: middle;\n",
       "    }\n",
       "\n",
       "    .dataframe tbody tr th {\n",
       "        vertical-align: top;\n",
       "    }\n",
       "\n",
       "    .dataframe thead th {\n",
       "        text-align: right;\n",
       "    }\n",
       "</style>\n",
       "<table border=\"1\" class=\"dataframe\">\n",
       "  <thead>\n",
       "    <tr style=\"text-align: right;\">\n",
       "      <th></th>\n",
       "      <th>target</th>\n",
       "      <th>num_char</th>\n",
       "      <th>num_words</th>\n",
       "      <th>num_sent</th>\n",
       "    </tr>\n",
       "  </thead>\n",
       "  <tbody>\n",
       "    <tr>\n",
       "      <th>count</th>\n",
       "      <td>5169.000000</td>\n",
       "      <td>5169.000000</td>\n",
       "      <td>5169.000000</td>\n",
       "      <td>5169.000000</td>\n",
       "    </tr>\n",
       "    <tr>\n",
       "      <th>mean</th>\n",
       "      <td>0.126330</td>\n",
       "      <td>78.977945</td>\n",
       "      <td>18.455794</td>\n",
       "      <td>1.965564</td>\n",
       "    </tr>\n",
       "    <tr>\n",
       "      <th>std</th>\n",
       "      <td>0.332253</td>\n",
       "      <td>58.236293</td>\n",
       "      <td>13.324758</td>\n",
       "      <td>1.448541</td>\n",
       "    </tr>\n",
       "    <tr>\n",
       "      <th>min</th>\n",
       "      <td>0.000000</td>\n",
       "      <td>2.000000</td>\n",
       "      <td>1.000000</td>\n",
       "      <td>1.000000</td>\n",
       "    </tr>\n",
       "    <tr>\n",
       "      <th>25%</th>\n",
       "      <td>0.000000</td>\n",
       "      <td>36.000000</td>\n",
       "      <td>9.000000</td>\n",
       "      <td>1.000000</td>\n",
       "    </tr>\n",
       "    <tr>\n",
       "      <th>50%</th>\n",
       "      <td>0.000000</td>\n",
       "      <td>60.000000</td>\n",
       "      <td>15.000000</td>\n",
       "      <td>1.000000</td>\n",
       "    </tr>\n",
       "    <tr>\n",
       "      <th>75%</th>\n",
       "      <td>0.000000</td>\n",
       "      <td>117.000000</td>\n",
       "      <td>26.000000</td>\n",
       "      <td>2.000000</td>\n",
       "    </tr>\n",
       "    <tr>\n",
       "      <th>max</th>\n",
       "      <td>1.000000</td>\n",
       "      <td>910.000000</td>\n",
       "      <td>220.000000</td>\n",
       "      <td>38.000000</td>\n",
       "    </tr>\n",
       "  </tbody>\n",
       "</table>\n",
       "</div>"
      ],
      "text/plain": [
       "            target     num_char    num_words     num_sent\n",
       "count  5169.000000  5169.000000  5169.000000  5169.000000\n",
       "mean      0.126330    78.977945    18.455794     1.965564\n",
       "std       0.332253    58.236293    13.324758     1.448541\n",
       "min       0.000000     2.000000     1.000000     1.000000\n",
       "25%       0.000000    36.000000     9.000000     1.000000\n",
       "50%       0.000000    60.000000    15.000000     1.000000\n",
       "75%       0.000000   117.000000    26.000000     2.000000\n",
       "max       1.000000   910.000000   220.000000    38.000000"
      ]
     },
     "execution_count": 22,
     "metadata": {},
     "output_type": "execute_result"
    }
   ],
   "source": [
    "df.describe()"
   ]
  },
  {
   "cell_type": "code",
   "execution_count": 23,
   "id": "b150e571",
   "metadata": {},
   "outputs": [
    {
     "data": {
      "text/html": [
       "<div>\n",
       "<style scoped>\n",
       "    .dataframe tbody tr th:only-of-type {\n",
       "        vertical-align: middle;\n",
       "    }\n",
       "\n",
       "    .dataframe tbody tr th {\n",
       "        vertical-align: top;\n",
       "    }\n",
       "\n",
       "    .dataframe thead th {\n",
       "        text-align: right;\n",
       "    }\n",
       "</style>\n",
       "<table border=\"1\" class=\"dataframe\">\n",
       "  <thead>\n",
       "    <tr style=\"text-align: right;\">\n",
       "      <th></th>\n",
       "      <th>target</th>\n",
       "      <th>num_char</th>\n",
       "      <th>num_words</th>\n",
       "      <th>num_sent</th>\n",
       "    </tr>\n",
       "  </thead>\n",
       "  <tbody>\n",
       "    <tr>\n",
       "      <th>count</th>\n",
       "      <td>4516.0</td>\n",
       "      <td>4516.000000</td>\n",
       "      <td>4516.000000</td>\n",
       "      <td>4516.000000</td>\n",
       "    </tr>\n",
       "    <tr>\n",
       "      <th>mean</th>\n",
       "      <td>0.0</td>\n",
       "      <td>70.459256</td>\n",
       "      <td>17.123782</td>\n",
       "      <td>1.820195</td>\n",
       "    </tr>\n",
       "    <tr>\n",
       "      <th>std</th>\n",
       "      <td>0.0</td>\n",
       "      <td>56.358207</td>\n",
       "      <td>13.493970</td>\n",
       "      <td>1.383657</td>\n",
       "    </tr>\n",
       "    <tr>\n",
       "      <th>min</th>\n",
       "      <td>0.0</td>\n",
       "      <td>2.000000</td>\n",
       "      <td>1.000000</td>\n",
       "      <td>1.000000</td>\n",
       "    </tr>\n",
       "    <tr>\n",
       "      <th>25%</th>\n",
       "      <td>0.0</td>\n",
       "      <td>34.000000</td>\n",
       "      <td>8.000000</td>\n",
       "      <td>1.000000</td>\n",
       "    </tr>\n",
       "    <tr>\n",
       "      <th>50%</th>\n",
       "      <td>0.0</td>\n",
       "      <td>52.000000</td>\n",
       "      <td>13.000000</td>\n",
       "      <td>1.000000</td>\n",
       "    </tr>\n",
       "    <tr>\n",
       "      <th>75%</th>\n",
       "      <td>0.0</td>\n",
       "      <td>90.000000</td>\n",
       "      <td>22.000000</td>\n",
       "      <td>2.000000</td>\n",
       "    </tr>\n",
       "    <tr>\n",
       "      <th>max</th>\n",
       "      <td>0.0</td>\n",
       "      <td>910.000000</td>\n",
       "      <td>220.000000</td>\n",
       "      <td>38.000000</td>\n",
       "    </tr>\n",
       "  </tbody>\n",
       "</table>\n",
       "</div>"
      ],
      "text/plain": [
       "       target     num_char    num_words     num_sent\n",
       "count  4516.0  4516.000000  4516.000000  4516.000000\n",
       "mean      0.0    70.459256    17.123782     1.820195\n",
       "std       0.0    56.358207    13.493970     1.383657\n",
       "min       0.0     2.000000     1.000000     1.000000\n",
       "25%       0.0    34.000000     8.000000     1.000000\n",
       "50%       0.0    52.000000    13.000000     1.000000\n",
       "75%       0.0    90.000000    22.000000     2.000000\n",
       "max       0.0   910.000000   220.000000    38.000000"
      ]
     },
     "execution_count": 23,
     "metadata": {},
     "output_type": "execute_result"
    }
   ],
   "source": [
    "df[df['target']==0].describe()"
   ]
  },
  {
   "cell_type": "code",
   "execution_count": 24,
   "id": "f5667da3",
   "metadata": {},
   "outputs": [
    {
     "data": {
      "text/html": [
       "<div>\n",
       "<style scoped>\n",
       "    .dataframe tbody tr th:only-of-type {\n",
       "        vertical-align: middle;\n",
       "    }\n",
       "\n",
       "    .dataframe tbody tr th {\n",
       "        vertical-align: top;\n",
       "    }\n",
       "\n",
       "    .dataframe thead th {\n",
       "        text-align: right;\n",
       "    }\n",
       "</style>\n",
       "<table border=\"1\" class=\"dataframe\">\n",
       "  <thead>\n",
       "    <tr style=\"text-align: right;\">\n",
       "      <th></th>\n",
       "      <th>target</th>\n",
       "      <th>num_char</th>\n",
       "      <th>num_words</th>\n",
       "      <th>num_sent</th>\n",
       "    </tr>\n",
       "  </thead>\n",
       "  <tbody>\n",
       "    <tr>\n",
       "      <th>count</th>\n",
       "      <td>653.0</td>\n",
       "      <td>653.000000</td>\n",
       "      <td>653.000000</td>\n",
       "      <td>653.000000</td>\n",
       "    </tr>\n",
       "    <tr>\n",
       "      <th>mean</th>\n",
       "      <td>1.0</td>\n",
       "      <td>137.891271</td>\n",
       "      <td>27.667688</td>\n",
       "      <td>2.970904</td>\n",
       "    </tr>\n",
       "    <tr>\n",
       "      <th>std</th>\n",
       "      <td>0.0</td>\n",
       "      <td>30.137753</td>\n",
       "      <td>7.008418</td>\n",
       "      <td>1.488425</td>\n",
       "    </tr>\n",
       "    <tr>\n",
       "      <th>min</th>\n",
       "      <td>1.0</td>\n",
       "      <td>13.000000</td>\n",
       "      <td>2.000000</td>\n",
       "      <td>1.000000</td>\n",
       "    </tr>\n",
       "    <tr>\n",
       "      <th>25%</th>\n",
       "      <td>1.0</td>\n",
       "      <td>132.000000</td>\n",
       "      <td>25.000000</td>\n",
       "      <td>2.000000</td>\n",
       "    </tr>\n",
       "    <tr>\n",
       "      <th>50%</th>\n",
       "      <td>1.0</td>\n",
       "      <td>149.000000</td>\n",
       "      <td>29.000000</td>\n",
       "      <td>3.000000</td>\n",
       "    </tr>\n",
       "    <tr>\n",
       "      <th>75%</th>\n",
       "      <td>1.0</td>\n",
       "      <td>157.000000</td>\n",
       "      <td>32.000000</td>\n",
       "      <td>4.000000</td>\n",
       "    </tr>\n",
       "    <tr>\n",
       "      <th>max</th>\n",
       "      <td>1.0</td>\n",
       "      <td>224.000000</td>\n",
       "      <td>46.000000</td>\n",
       "      <td>9.000000</td>\n",
       "    </tr>\n",
       "  </tbody>\n",
       "</table>\n",
       "</div>"
      ],
      "text/plain": [
       "       target    num_char   num_words    num_sent\n",
       "count   653.0  653.000000  653.000000  653.000000\n",
       "mean      1.0  137.891271   27.667688    2.970904\n",
       "std       0.0   30.137753    7.008418    1.488425\n",
       "min       1.0   13.000000    2.000000    1.000000\n",
       "25%       1.0  132.000000   25.000000    2.000000\n",
       "50%       1.0  149.000000   29.000000    3.000000\n",
       "75%       1.0  157.000000   32.000000    4.000000\n",
       "max       1.0  224.000000   46.000000    9.000000"
      ]
     },
     "execution_count": 24,
     "metadata": {},
     "output_type": "execute_result"
    }
   ],
   "source": [
    "df[df['target']==1].describe()"
   ]
  },
  {
   "cell_type": "code",
   "execution_count": 25,
   "id": "88adac3e",
   "metadata": {},
   "outputs": [
    {
     "data": {
      "text/html": [
       "<div>\n",
       "<style scoped>\n",
       "    .dataframe tbody tr th:only-of-type {\n",
       "        vertical-align: middle;\n",
       "    }\n",
       "\n",
       "    .dataframe tbody tr th {\n",
       "        vertical-align: top;\n",
       "    }\n",
       "\n",
       "    .dataframe thead th {\n",
       "        text-align: right;\n",
       "    }\n",
       "</style>\n",
       "<table border=\"1\" class=\"dataframe\">\n",
       "  <thead>\n",
       "    <tr style=\"text-align: right;\">\n",
       "      <th></th>\n",
       "      <th>target</th>\n",
       "      <th>msg</th>\n",
       "      <th>num_char</th>\n",
       "      <th>num_words</th>\n",
       "      <th>num_sent</th>\n",
       "    </tr>\n",
       "  </thead>\n",
       "  <tbody>\n",
       "    <tr>\n",
       "      <th>1084</th>\n",
       "      <td>0</td>\n",
       "      <td>For me the love should start with attraction.i...</td>\n",
       "      <td>910</td>\n",
       "      <td>175</td>\n",
       "      <td>1</td>\n",
       "    </tr>\n",
       "    <tr>\n",
       "      <th>1578</th>\n",
       "      <td>0</td>\n",
       "      <td>How to Make a girl Happy? It's not at all diff...</td>\n",
       "      <td>611</td>\n",
       "      <td>220</td>\n",
       "      <td>38</td>\n",
       "    </tr>\n",
       "    <tr>\n",
       "      <th>1862</th>\n",
       "      <td>0</td>\n",
       "      <td>The last thing i ever wanted to do was hurt yo...</td>\n",
       "      <td>790</td>\n",
       "      <td>196</td>\n",
       "      <td>10</td>\n",
       "    </tr>\n",
       "    <tr>\n",
       "      <th>2157</th>\n",
       "      <td>0</td>\n",
       "      <td>Sad story of a Man - Last week was my b'day. M...</td>\n",
       "      <td>588</td>\n",
       "      <td>154</td>\n",
       "      <td>18</td>\n",
       "    </tr>\n",
       "    <tr>\n",
       "      <th>2433</th>\n",
       "      <td>0</td>\n",
       "      <td>Indians r poor but India is not a poor country...</td>\n",
       "      <td>632</td>\n",
       "      <td>161</td>\n",
       "      <td>11</td>\n",
       "    </tr>\n",
       "  </tbody>\n",
       "</table>\n",
       "</div>"
      ],
      "text/plain": [
       "      target                                                msg  num_char   \n",
       "1084       0  For me the love should start with attraction.i...       910  \\\n",
       "1578       0  How to Make a girl Happy? It's not at all diff...       611   \n",
       "1862       0  The last thing i ever wanted to do was hurt yo...       790   \n",
       "2157       0  Sad story of a Man - Last week was my b'day. M...       588   \n",
       "2433       0  Indians r poor but India is not a poor country...       632   \n",
       "\n",
       "      num_words  num_sent  \n",
       "1084        175         1  \n",
       "1578        220        38  \n",
       "1862        196        10  \n",
       "2157        154        18  \n",
       "2433        161        11  "
      ]
     },
     "execution_count": 25,
     "metadata": {},
     "output_type": "execute_result"
    }
   ],
   "source": [
    "df[df['num_char']>500]"
   ]
  },
  {
   "cell_type": "code",
   "execution_count": 26,
   "id": "14f33774",
   "metadata": {},
   "outputs": [],
   "source": [
    "import seaborn as sns"
   ]
  },
  {
   "cell_type": "code",
   "execution_count": 27,
   "id": "2dfa1334",
   "metadata": {},
   "outputs": [
    {
     "data": {
      "text/plain": [
       "<AxesSubplot:xlabel='num_char', ylabel='Count'>"
      ]
     },
     "execution_count": 27,
     "metadata": {},
     "output_type": "execute_result"
    },
    {
     "data": {
      "image/png": "[encoded data removed]",
      "text/plain": [
       "<Figure size 640x480 with 1 Axes>"
      ]
     },
     "metadata": {},
     "output_type": "display_data"
    }
   ],
   "source": [
    "sns.histplot(df[df['target']==0]['num_char'])\n",
    "sns.histplot(df[df['target']==1]['num_char'],color='red')"
   ]
  },
  {
   "cell_type": "code",
   "execution_count": 28,
   "id": "16e8958d",
   "metadata": {},
   "outputs": [
    {
     "data": {
      "text/html": [
       "<div>\n",
       "<style scoped>\n",
       "    .dataframe tbody tr th:only-of-type {\n",
       "        vertical-align: middle;\n",
       "    }\n",
       "\n",
       "    .dataframe tbody tr th {\n",
       "        vertical-align: top;\n",
       "    }\n",
       "\n",
       "    .dataframe thead th {\n",
       "        text-align: right;\n",
       "    }\n",
       "</style>\n",
       "<table border=\"1\" class=\"dataframe\">\n",
       "  <thead>\n",
       "    <tr style=\"text-align: right;\">\n",
       "      <th></th>\n",
       "      <th>target</th>\n",
       "      <th>num_char</th>\n",
       "      <th>num_words</th>\n",
       "      <th>num_sent</th>\n",
       "    </tr>\n",
       "  </thead>\n",
       "  <tbody>\n",
       "    <tr>\n",
       "      <th>target</th>\n",
       "      <td>1.000000</td>\n",
       "      <td>0.384717</td>\n",
       "      <td>0.262912</td>\n",
       "      <td>0.263939</td>\n",
       "    </tr>\n",
       "    <tr>\n",
       "      <th>num_char</th>\n",
       "      <td>0.384717</td>\n",
       "      <td>1.000000</td>\n",
       "      <td>0.965760</td>\n",
       "      <td>0.624139</td>\n",
       "    </tr>\n",
       "    <tr>\n",
       "      <th>num_words</th>\n",
       "      <td>0.262912</td>\n",
       "      <td>0.965760</td>\n",
       "      <td>1.000000</td>\n",
       "      <td>0.679971</td>\n",
       "    </tr>\n",
       "    <tr>\n",
       "      <th>num_sent</th>\n",
       "      <td>0.263939</td>\n",
       "      <td>0.624139</td>\n",
       "      <td>0.679971</td>\n",
       "      <td>1.000000</td>\n",
       "    </tr>\n",
       "  </tbody>\n",
       "</table>\n",
       "</div>"
      ],
      "text/plain": [
       "             target  num_char  num_words  num_sent\n",
       "target     1.000000  0.384717   0.262912  0.263939\n",
       "num_char   0.384717  1.000000   0.965760  0.624139\n",
       "num_words  0.262912  0.965760   1.000000  0.679971\n",
       "num_sent   0.263939  0.624139   0.679971  1.000000"
      ]
     },
     "execution_count": 28,
     "metadata": {},
     "output_type": "execute_result"
    }
   ],
   "source": [
    "temp = df[['target','num_char','num_words','num_sent']]\n",
    "temp.corr()"
   ]
  },
  {
   "cell_type": "code",
   "execution_count": 29,
   "id": "de598861",
   "metadata": {},
   "outputs": [
    {
     "data": {
      "text/plain": [
       "<AxesSubplot:>"
      ]
     },
     "execution_count": 29,
     "metadata": {},
     "output_type": "execute_result"
    },
    {
     "data": {
      "image/png": "[encoded data removed]",
      "text/plain": [
       "<Figure size 640x480 with 2 Axes>"
      ]
     },
     "metadata": {},
     "output_type": "display_data"
    }
   ],
   "source": [
    "sns.heatmap(temp.corr(),annot=True)"
   ]
  },
  {
   "cell_type": "code",
   "execution_count": 30,
   "id": "f4f9df4f",
   "metadata": {},
   "outputs": [],
   "source": [
    "from nltk.corpus import stopwords\n",
    "eng_stopwords = stopwords.words('english')"
   ]
  },
  {
   "cell_type": "code",
   "execution_count": 31,
   "id": "eb6417fe",
   "metadata": {},
   "outputs": [],
   "source": [
    "import string\n",
    "punc = string.punctuation"
   ]
  },
  {
   "cell_type": "code",
   "execution_count": 32,
   "id": "49048e50",
   "metadata": {},
   "outputs": [],
   "source": [
    "from nltk.stem import PorterStemmer\n",
    "ps = PorterStemmer()"
   ]
  },
  {
   "cell_type": "code",
   "execution_count": 33,
   "id": "6b17d91b",
   "metadata": {},
   "outputs": [],
   "source": [
    "def transform_msg(txt):\n",
    "    txt = txt.lower()\n",
    "    \n",
    "    txt = nltk.word_tokenize(txt)\n",
    "    \n",
    "    y = []\n",
    "    for i in txt:\n",
    "        if i.isalnum():\n",
    "            y.append(i)\n",
    "    \n",
    "    z = []\n",
    "    for i in y:\n",
    "        if i not in eng_stopwords and i not in punc:\n",
    "            z.append(i)\n",
    "    y.clear()\n",
    "    for i in z:\n",
    "        y.append(ps.stem(i))\n",
    "    \n",
    "    return \" \".join(y)"
   ]
  },
  {
   "cell_type": "code",
   "execution_count": 41,
   "id": "8b682da2",
   "metadata": {},
   "outputs": [],
   "source": [
    "temp_text = \"Helloe i am dancing in a jakjf hjkhfAfjkjf caring 'ajkfj'  Djjsff AA %$ fja! jaf.\""
   ]
  },
  {
   "cell_type": "code",
   "execution_count": 35,
   "id": "9dabffca",
   "metadata": {},
   "outputs": [],
   "source": [
    "temp_text = temp_text.lower()"
   ]
  },
  {
   "cell_type": "code",
   "execution_count": 36,
   "id": "a4e478fc",
   "metadata": {},
   "outputs": [],
   "source": [
    "temp_text = nltk.word_tokenize(temp_text)"
   ]
  },
  {
   "cell_type": "code",
   "execution_count": 37,
   "id": "cd8e7578",
   "metadata": {},
   "outputs": [
    {
     "name": "stdout",
     "output_type": "stream",
     "text": [
      "['helloe', 'i', 'am', 'dancing', 'in', 'a', 'jakjf', 'hjkhfafjkjf', 'caring', 'djjsff', 'aa', 'fja', 'jaf']\n"
     ]
    }
   ],
   "source": [
    "y = []\n",
    "for i in temp_text:\n",
    "    if i.isalnum():\n",
    "        y.append(i)\n",
    "print(y)"
   ]
  },
  {
   "cell_type": "code",
   "execution_count": 38,
   "id": "88505a1c",
   "metadata": {},
   "outputs": [
    {
     "data": {
      "text/plain": [
       "'danc'"
      ]
     },
     "execution_count": 38,
     "metadata": {},
     "output_type": "execute_result"
    }
   ],
   "source": [
    "ps.stem('dancing')"
   ]
  },
  {
   "cell_type": "code",
   "execution_count": null,
   "id": "f6ba1f1e",
   "metadata": {},
   "outputs": [],
   "source": [
    "temp_text = \"Helloe i am dancing in a jakjf hjkhfAfjkjf caring 'ajkfj'  Djjsff AA %$ fja! jaf.\""
   ]
  },
  {
   "cell_type": "code",
   "execution_count": 42,
   "id": "b3800bca",
   "metadata": {},
   "outputs": [
    {
     "data": {
      "text/plain": [
       "'hello danc jakjf hjkhfafjkjf care djjsff aa fja jaf'"
      ]
     },
     "execution_count": 42,
     "metadata": {},
     "output_type": "execute_result"
    }
   ],
   "source": [
    "transform_msg(temp_text)"
   ]
  },
  {
   "cell_type": "code",
   "execution_count": 43,
   "id": "67557fcd",
   "metadata": {},
   "outputs": [],
   "source": [
    "df['trans_msg'] = df['msg'].apply(transform_msg)"
   ]
  },
  {
   "cell_type": "code",
   "execution_count": 44,
   "id": "cc2fd34e",
   "metadata": {},
   "outputs": [
    {
     "data": {
      "text/html": [
       "<div>\n",
       "<style scoped>\n",
       "    .dataframe tbody tr th:only-of-type {\n",
       "        vertical-align: middle;\n",
       "    }\n",
       "\n",
       "    .dataframe tbody tr th {\n",
       "        vertical-align: top;\n",
       "    }\n",
       "\n",
       "    .dataframe thead th {\n",
       "        text-align: right;\n",
       "    }\n",
       "</style>\n",
       "<table border=\"1\" class=\"dataframe\">\n",
       "  <thead>\n",
       "    <tr style=\"text-align: right;\">\n",
       "      <th></th>\n",
       "      <th>target</th>\n",
       "      <th>msg</th>\n",
       "      <th>num_char</th>\n",
       "      <th>num_words</th>\n",
       "      <th>num_sent</th>\n",
       "      <th>trans_msg</th>\n",
       "    </tr>\n",
       "  </thead>\n",
       "  <tbody>\n",
       "    <tr>\n",
       "      <th>0</th>\n",
       "      <td>0</td>\n",
       "      <td>Go until jurong point, crazy.. Available only ...</td>\n",
       "      <td>111</td>\n",
       "      <td>24</td>\n",
       "      <td>2</td>\n",
       "      <td>go jurong point crazi avail bugi n great world...</td>\n",
       "    </tr>\n",
       "    <tr>\n",
       "      <th>1</th>\n",
       "      <td>0</td>\n",
       "      <td>Ok lar... Joking wif u oni...</td>\n",
       "      <td>29</td>\n",
       "      <td>8</td>\n",
       "      <td>2</td>\n",
       "      <td>ok lar joke wif u oni</td>\n",
       "    </tr>\n",
       "    <tr>\n",
       "      <th>2</th>\n",
       "      <td>1</td>\n",
       "      <td>Free entry in 2 a wkly comp to win FA Cup fina...</td>\n",
       "      <td>155</td>\n",
       "      <td>37</td>\n",
       "      <td>2</td>\n",
       "      <td>free entri 2 wkli comp win fa cup final tkt 21...</td>\n",
       "    </tr>\n",
       "    <tr>\n",
       "      <th>3</th>\n",
       "      <td>0</td>\n",
       "      <td>U dun say so early hor... U c already then say...</td>\n",
       "      <td>49</td>\n",
       "      <td>13</td>\n",
       "      <td>1</td>\n",
       "      <td>u dun say earli hor u c alreadi say</td>\n",
       "    </tr>\n",
       "    <tr>\n",
       "      <th>4</th>\n",
       "      <td>0</td>\n",
       "      <td>Nah I don't think he goes to usf, he lives aro...</td>\n",
       "      <td>61</td>\n",
       "      <td>15</td>\n",
       "      <td>1</td>\n",
       "      <td>nah think goe usf live around though</td>\n",
       "    </tr>\n",
       "    <tr>\n",
       "      <th>...</th>\n",
       "      <td>...</td>\n",
       "      <td>...</td>\n",
       "      <td>...</td>\n",
       "      <td>...</td>\n",
       "      <td>...</td>\n",
       "      <td>...</td>\n",
       "    </tr>\n",
       "    <tr>\n",
       "      <th>5567</th>\n",
       "      <td>1</td>\n",
       "      <td>This is the 2nd time we have tried 2 contact u...</td>\n",
       "      <td>161</td>\n",
       "      <td>35</td>\n",
       "      <td>4</td>\n",
       "      <td>2nd time tri 2 contact u pound prize 2 claim e...</td>\n",
       "    </tr>\n",
       "    <tr>\n",
       "      <th>5568</th>\n",
       "      <td>0</td>\n",
       "      <td>Will Ì_ b going to esplanade fr home?</td>\n",
       "      <td>37</td>\n",
       "      <td>9</td>\n",
       "      <td>1</td>\n",
       "      <td>b go esplanad fr home</td>\n",
       "    </tr>\n",
       "    <tr>\n",
       "      <th>5569</th>\n",
       "      <td>0</td>\n",
       "      <td>Pity, * was in mood for that. So...any other s...</td>\n",
       "      <td>57</td>\n",
       "      <td>15</td>\n",
       "      <td>2</td>\n",
       "      <td>piti mood suggest</td>\n",
       "    </tr>\n",
       "    <tr>\n",
       "      <th>5570</th>\n",
       "      <td>0</td>\n",
       "      <td>The guy did some bitching but I acted like i'd...</td>\n",
       "      <td>125</td>\n",
       "      <td>27</td>\n",
       "      <td>1</td>\n",
       "      <td>guy bitch act like interest buy someth els nex...</td>\n",
       "    </tr>\n",
       "    <tr>\n",
       "      <th>5571</th>\n",
       "      <td>0</td>\n",
       "      <td>Rofl. Its true to its name</td>\n",
       "      <td>26</td>\n",
       "      <td>7</td>\n",
       "      <td>2</td>\n",
       "      <td>rofl true name</td>\n",
       "    </tr>\n",
       "  </tbody>\n",
       "</table>\n",
       "<p>5169 rows × 6 columns</p>\n",
       "</div>"
      ],
      "text/plain": [
       "      target                                                msg  num_char   \n",
       "0          0  Go until jurong point, crazy.. Available only ...       111  \\\n",
       "1          0                      Ok lar... Joking wif u oni...        29   \n",
       "2          1  Free entry in 2 a wkly comp to win FA Cup fina...       155   \n",
       "3          0  U dun say so early hor... U c already then say...        49   \n",
       "4          0  Nah I don't think he goes to usf, he lives aro...        61   \n",
       "...      ...                                                ...       ...   \n",
       "5567       1  This is the 2nd time we have tried 2 contact u...       161   \n",
       "5568       0              Will Ì_ b going to esplanade fr home?        37   \n",
       "5569       0  Pity, * was in mood for that. So...any other s...        57   \n",
       "5570       0  The guy did some bitching but I acted like i'd...       125   \n",
       "5571       0                         Rofl. Its true to its name        26   \n",
       "\n",
       "      num_words  num_sent                                          trans_msg  \n",
       "0            24         2  go jurong point crazi avail bugi n great world...  \n",
       "1             8         2                              ok lar joke wif u oni  \n",
       "2            37         2  free entri 2 wkli comp win fa cup final tkt 21...  \n",
       "3            13         1                u dun say earli hor u c alreadi say  \n",
       "4            15         1               nah think goe usf live around though  \n",
       "...         ...       ...                                                ...  \n",
       "5567         35         4  2nd time tri 2 contact u pound prize 2 claim e...  \n",
       "5568          9         1                              b go esplanad fr home  \n",
       "5569         15         2                                  piti mood suggest  \n",
       "5570         27         1  guy bitch act like interest buy someth els nex...  \n",
       "5571          7         2                                     rofl true name  \n",
       "\n",
       "[5169 rows x 6 columns]"
      ]
     },
     "execution_count": 44,
     "metadata": {},
     "output_type": "execute_result"
    }
   ],
   "source": [
    "df"
   ]
  },
  {
   "cell_type": "code",
   "execution_count": 45,
   "id": "3897521a",
   "metadata": {},
   "outputs": [],
   "source": [
    "from wordcloud import WordCloud\n",
    "wc = WordCloud()"
   ]
  },
  {
   "cell_type": "code",
   "execution_count": 46,
   "id": "fe786f0f",
   "metadata": {},
   "outputs": [],
   "source": [
    "spam_wc = wc.generate(df[df['target']==1]['trans_msg'].str.cat(sep=\" \"))"
   ]
  },
  {
   "cell_type": "code",
   "execution_count": 47,
   "id": "e5cbb32b",
   "metadata": {},
   "outputs": [
    {
     "data": {
      "text/plain": [
       "<matplotlib.image.AxesImage at 0x23d2f5f4af0>"
      ]
     },
     "execution_count": 47,
     "metadata": {},
     "output_type": "execute_result"
    },
    {
     "data": {
      "image/png": "[encoded data removed]",
      "text/plain": [
       "<Figure size 640x480 with 1 Axes>"
      ]
     },
     "metadata": {},
     "output_type": "display_data"
    }
   ],
   "source": [
    "plt.imshow(spam_wc)"
   ]
  },
  {
   "cell_type": "code",
   "execution_count": 48,
   "id": "5f1cc880",
   "metadata": {},
   "outputs": [],
   "source": [
    "ham = wc.generate(df[df['target']==0]['trans_msg'].str.cat(sep=\" \"))"
   ]
  },
  {
   "cell_type": "code",
   "execution_count": 49,
   "id": "6a996ee6",
   "metadata": {},
   "outputs": [
    {
     "data": {
      "text/plain": [
       "<matplotlib.image.AxesImage at 0x23d2f669270>"
      ]
     },
     "execution_count": 49,
     "metadata": {},
     "output_type": "execute_result"
    },
    {
     "data": {
      "image/png": "[encoded data removed]",
      "text/plain": [
       "<Figure size 640x480 with 1 Axes>"
      ]
     },
     "metadata": {},
     "output_type": "display_data"
    }
   ],
   "source": [
    "plt.imshow(ham)"
   ]
  },
  {
   "cell_type": "code",
   "execution_count": 50,
   "id": "1a3336e7",
   "metadata": {},
   "outputs": [],
   "source": [
    "spam_corpus = []\n",
    "for i in df[df['target']==1]['trans_msg'].to_list():\n",
    "    for j in i.split():\n",
    "        spam_corpus.append(j)"
   ]
  },
  {
   "cell_type": "code",
   "execution_count": 51,
   "id": "07d9101a",
   "metadata": {},
   "outputs": [
    {
     "data": {
      "text/plain": [
       "9939"
      ]
     },
     "execution_count": 51,
     "metadata": {},
     "output_type": "execute_result"
    }
   ],
   "source": [
    "len(spam_corpus)"
   ]
  },
  {
   "cell_type": "code",
   "execution_count": 52,
   "id": "1738a712",
   "metadata": {},
   "outputs": [],
   "source": [
    "from collections import Counter\n",
    "spam_df = pd.DataFrame(Counter(spam_corpus).most_common(30))"
   ]
  },
  {
   "cell_type": "code",
   "execution_count": 53,
   "id": "d7d85dad",
   "metadata": {},
   "outputs": [],
   "source": [
    "ham_corpus = []\n",
    "for i in df[df['target']==0]['trans_msg'].to_list():\n",
    "    for j in i.split():\n",
    "        ham_corpus.append(j)"
   ]
  },
  {
   "cell_type": "code",
   "execution_count": 54,
   "id": "a3793de1",
   "metadata": {},
   "outputs": [
    {
     "data": {
      "text/plain": [
       "35404"
      ]
     },
     "execution_count": 54,
     "metadata": {},
     "output_type": "execute_result"
    }
   ],
   "source": [
    "len(ham_corpus)"
   ]
  },
  {
   "cell_type": "code",
   "execution_count": 55,
   "id": "c56ff285",
   "metadata": {},
   "outputs": [],
   "source": [
    "from collections import Counter\n",
    "ham_df = pd.DataFrame(Counter(ham_corpus).most_common(30))"
   ]
  },
  {
   "cell_type": "code",
   "execution_count": 56,
   "id": "139854ed",
   "metadata": {},
   "outputs": [
    {
     "data": {
      "image/png": "[encoded data removed]",
      "text/plain": [
       "<Figure size 640x480 with 1 Axes>"
      ]
     },
     "metadata": {},
     "output_type": "display_data"
    }
   ],
   "source": [
    "sns.barplot(x=0,y=1,data=spam_df)\n",
    "plt.xticks(rotation='vertical')\n",
    "plt.show()"
   ]
  },
  {
   "cell_type": "code",
   "execution_count": 57,
   "id": "f0b39b52",
   "metadata": {},
   "outputs": [
    {
     "data": {
      "image/png": "[encoded data removed]",
      "text/plain": [
       "<Figure size 640x480 with 1 Axes>"
      ]
     },
     "metadata": {},
     "output_type": "display_data"
    }
   ],
   "source": [
    "sns.barplot(x=0,y=1,data=ham_df)\n",
    "plt.xticks(rotation='vertical')\n",
    "plt.show()"
   ]
  },
  {
   "cell_type": "code",
   "execution_count": 266,
   "id": "5170a8eb",
   "metadata": {},
   "outputs": [],
   "source": [
    "from sklearn.feature_extraction.text import CountVectorizer,TfidfVectorizer\n",
    "cv = CountVectorizer()\n",
    "tfidf = TfidfVectorizer()"
   ]
  },
  {
   "cell_type": "code",
   "execution_count": 267,
   "id": "4a7c8449",
   "metadata": {},
   "outputs": [],
   "source": [
    "x = tfidf.fit_transform(df['trans_msg']).toarray()"
   ]
  },
  {
   "cell_type": "code",
   "execution_count": 227,
   "id": "57d3ec94",
   "metadata": {},
   "outputs": [],
   "source": [
    "from sklearn.preprocessing import MinMaxScaler\n",
    "sc = MinMaxScaler()\n",
    "x = sc.fit_transform(x)"
   ]
  },
  {
   "cell_type": "code",
   "execution_count": 268,
   "id": "edb97441",
   "metadata": {},
   "outputs": [],
   "source": [
    "y = df['target']"
   ]
  },
  {
   "cell_type": "code",
   "execution_count": 269,
   "id": "97bd7654",
   "metadata": {},
   "outputs": [
    {
     "name": "stdout",
     "output_type": "stream",
     "text": [
      "(5169, 6708)\n",
      "(5169,)\n"
     ]
    }
   ],
   "source": [
    "print(x.shape)\n",
    "print(y.shape)"
   ]
  },
  {
   "cell_type": "code",
   "execution_count": 240,
   "id": "c8daca59",
   "metadata": {},
   "outputs": [],
   "source": [
    "from sklearn.model_selection import train_test_split"
   ]
  },
  {
   "cell_type": "code",
   "execution_count": 270,
   "id": "3d879ec8",
   "metadata": {},
   "outputs": [],
   "source": [
    "x_train,x_test,y_train,y_test = train_test_split(x,y,test_size=0.2,random_state=2)"
   ]
  },
  {
   "cell_type": "code",
   "execution_count": 118,
   "id": "2fbd09ae",
   "metadata": {},
   "outputs": [],
   "source": [
    "from sklearn.naive_bayes import BernoulliNB,MultinomialNB,GaussianNB\n",
    "from sklearn.metrics import accuracy_score,precision_score"
   ]
  },
  {
   "cell_type": "code",
   "execution_count": 123,
   "id": "a3afd487",
   "metadata": {},
   "outputs": [],
   "source": [
    "ber = BernoulliNB()\n",
    "# mul = MultinomialNB()\n",
    "# gau = GaussianNB() \n",
    "ber.fit(x_train,y_train)\n",
    "predictions = ber.predict(x_test)"
   ]
  },
  {
   "cell_type": "code",
   "execution_count": 124,
   "id": "f1c3a575",
   "metadata": {},
   "outputs": [
    {
     "name": "stdout",
     "output_type": "stream",
     "text": [
      "0.9700193423597679\n",
      "0.9734513274336283\n"
     ]
    }
   ],
   "source": [
    "print(accuracy_score(y_test,predictions))\n",
    "print(precision_score(y_test,predictions))"
   ]
  },
  {
   "cell_type": "code",
   "execution_count": 125,
   "id": "26544c18",
   "metadata": {},
   "outputs": [],
   "source": [
    "from sklearn.linear_model import LogisticRegression\n",
    "from sklearn.ensemble import AdaBoostClassifier,BaggingClassifier,ExtraTreesClassifier,GradientBoostingClassifier,RandomForestClassifier\n",
    "from sklearn.neighbors import KNeighborsClassifier\n",
    "from sklearn.svm import SVC\n",
    "from sklearn.tree import DecisionTreeClassifier\n",
    "from xgboost import XGBClassifier"
   ]
  },
  {
   "cell_type": "code",
   "execution_count": 126,
   "id": "6c3dc585",
   "metadata": {},
   "outputs": [],
   "source": [
    "log = LogisticRegression()\n",
    "adb = AdaBoostClassifier()\n",
    "bag = BaggingClassifier()\n",
    "ext = ExtraTreesClassifier()\n",
    "gra = GradientBoostingClassifier()\n",
    "rad = RandomForestClassifier()\n",
    "kne = KNeighborsClassifier()\n",
    "svc = SVC()\n",
    "dec = DecisionTreeClassifier()\n",
    "xgb = XGBClassifier()"
   ]
  },
  {
   "cell_type": "code",
   "execution_count": 135,
   "id": "94b42e92",
   "metadata": {},
   "outputs": [],
   "source": [
    "clf = [ber,mul,gau,log,adb,bag,ext,gra,rad,kne,svc,dec,xgb]\n",
    "# {\n",
    "#     'ber' : ber,\n",
    "#     'mul' : mul,\n",
    "#     'gau' : gau,\n",
    "#     'log' : log,\n",
    "#     'adb' : adb,\n",
    "#     'bag' : bag,\n",
    "#     'ext' : ext,\n",
    "#     'gra' : gra,\n",
    "#     'rad' : rad,\n",
    "#     'kne' : kne,\n",
    "#     'svc' :svc,\n",
    "#     'dec' : dec,\n",
    "#     'xgb' : xgb\n",
    "# }"
   ]
  },
  {
   "cell_type": "code",
   "execution_count": 146,
   "id": "8ef6233d",
   "metadata": {},
   "outputs": [],
   "source": [
    "acc_score = []\n",
    "pre_score = []\n",
    "def rec(clf,x_train,x_test,y_train,y_test):\n",
    "    clf.fit(x_train,y_train)\n",
    "    pred = clf.predict(x_test)\n",
    "    acc_score.append(accuracy_score(y_test,pred))\n",
    "    pre_score.append(precision_score(y_test,pred))\n"
   ]
  },
  {
   "cell_type": "code",
   "execution_count": 147,
   "id": "a01c5947",
   "metadata": {},
   "outputs": [],
   "source": [
    "for i in clf:\n",
    "    rec(i,x_train,x_test,y_train,y_test)"
   ]
  },
  {
   "cell_type": "code",
   "execution_count": 148,
   "id": "7165f4ac",
   "metadata": {},
   "outputs": [],
   "source": [
    "performance = pd.DataFrame({\n",
    "    'model':clf,\n",
    "    'acc_score':acc_score,\n",
    "    'pre_score':pre_score\n",
    "})"
   ]
  },
  {
   "cell_type": "code",
   "execution_count": 154,
   "id": "e8407b88",
   "metadata": {},
   "outputs": [
    {
     "data": {
      "text/html": [
       "<div>\n",
       "<style scoped>\n",
       "    .dataframe tbody tr th:only-of-type {\n",
       "        vertical-align: middle;\n",
       "    }\n",
       "\n",
       "    .dataframe tbody tr th {\n",
       "        vertical-align: top;\n",
       "    }\n",
       "\n",
       "    .dataframe thead th {\n",
       "        text-align: right;\n",
       "    }\n",
       "</style>\n",
       "<table border=\"1\" class=\"dataframe\">\n",
       "  <thead>\n",
       "    <tr style=\"text-align: right;\">\n",
       "      <th></th>\n",
       "      <th>model</th>\n",
       "      <th>acc_score</th>\n",
       "      <th>pre_score</th>\n",
       "    </tr>\n",
       "  </thead>\n",
       "  <tbody>\n",
       "    <tr>\n",
       "      <th>9</th>\n",
       "      <td>KNeighborsClassifier()</td>\n",
       "      <td>0.906190</td>\n",
       "      <td>1.000000</td>\n",
       "    </tr>\n",
       "    <tr>\n",
       "      <th>3</th>\n",
       "      <td>LogisticRegression()</td>\n",
       "      <td>0.978723</td>\n",
       "      <td>0.991525</td>\n",
       "    </tr>\n",
       "    <tr>\n",
       "      <th>10</th>\n",
       "      <td>SVC()</td>\n",
       "      <td>0.970986</td>\n",
       "      <td>0.990909</td>\n",
       "    </tr>\n",
       "    <tr>\n",
       "      <th>6</th>\n",
       "      <td>(ExtraTreeClassifier(random_state=1153938165),...</td>\n",
       "      <td>0.977756</td>\n",
       "      <td>0.983193</td>\n",
       "    </tr>\n",
       "    <tr>\n",
       "      <th>8</th>\n",
       "      <td>(DecisionTreeClassifier(max_features='sqrt', r...</td>\n",
       "      <td>0.970019</td>\n",
       "      <td>0.981982</td>\n",
       "    </tr>\n",
       "    <tr>\n",
       "      <th>0</th>\n",
       "      <td>BernoulliNB()</td>\n",
       "      <td>0.970019</td>\n",
       "      <td>0.973451</td>\n",
       "    </tr>\n",
       "    <tr>\n",
       "      <th>12</th>\n",
       "      <td>XGBClassifier(base_score=None, booster=None, c...</td>\n",
       "      <td>0.976789</td>\n",
       "      <td>0.967213</td>\n",
       "    </tr>\n",
       "    <tr>\n",
       "      <th>7</th>\n",
       "      <td>([DecisionTreeRegressor(criterion='friedman_ms...</td>\n",
       "      <td>0.959381</td>\n",
       "      <td>0.952830</td>\n",
       "    </tr>\n",
       "    <tr>\n",
       "      <th>4</th>\n",
       "      <td>(DecisionTreeClassifier(max_depth=1, random_st...</td>\n",
       "      <td>0.963250</td>\n",
       "      <td>0.938596</td>\n",
       "    </tr>\n",
       "    <tr>\n",
       "      <th>5</th>\n",
       "      <td>(DecisionTreeClassifier(random_state=898943284...</td>\n",
       "      <td>0.961315</td>\n",
       "      <td>0.922414</td>\n",
       "    </tr>\n",
       "    <tr>\n",
       "      <th>11</th>\n",
       "      <td>DecisionTreeClassifier()</td>\n",
       "      <td>0.959381</td>\n",
       "      <td>0.900000</td>\n",
       "    </tr>\n",
       "    <tr>\n",
       "      <th>1</th>\n",
       "      <td>MultinomialNB()</td>\n",
       "      <td>0.964217</td>\n",
       "      <td>0.834437</td>\n",
       "    </tr>\n",
       "    <tr>\n",
       "      <th>2</th>\n",
       "      <td>GaussianNB()</td>\n",
       "      <td>0.880077</td>\n",
       "      <td>0.531532</td>\n",
       "    </tr>\n",
       "  </tbody>\n",
       "</table>\n",
       "</div>"
      ],
      "text/plain": [
       "                                                model  acc_score  pre_score\n",
       "9                              KNeighborsClassifier()   0.906190   1.000000\n",
       "3                                LogisticRegression()   0.978723   0.991525\n",
       "10                                              SVC()   0.970986   0.990909\n",
       "6   (ExtraTreeClassifier(random_state=1153938165),...   0.977756   0.983193\n",
       "8   (DecisionTreeClassifier(max_features='sqrt', r...   0.970019   0.981982\n",
       "0                                       BernoulliNB()   0.970019   0.973451\n",
       "12  XGBClassifier(base_score=None, booster=None, c...   0.976789   0.967213\n",
       "7   ([DecisionTreeRegressor(criterion='friedman_ms...   0.959381   0.952830\n",
       "4   (DecisionTreeClassifier(max_depth=1, random_st...   0.963250   0.938596\n",
       "5   (DecisionTreeClassifier(random_state=898943284...   0.961315   0.922414\n",
       "11                           DecisionTreeClassifier()   0.959381   0.900000\n",
       "1                                     MultinomialNB()   0.964217   0.834437\n",
       "2                                        GaussianNB()   0.880077   0.531532"
      ]
     },
     "execution_count": 154,
     "metadata": {},
     "output_type": "execute_result"
    }
   ],
   "source": [
    "performance.sort_values(['pre_score'],ascending=False)"
   ]
  },
  {
   "cell_type": "code",
   "execution_count": 188,
   "id": "d7e431c2",
   "metadata": {},
   "outputs": [],
   "source": [
    "acc_score_tfidf_3000 = []\n",
    "pre_score_tfidf_3000 = []\n",
    "def rec2(clf,x_train,x_test,y_train,y_test):\n",
    "    clf.fit(x_train,y_train)\n",
    "    pred = clf.predict(x_test)\n",
    "    acc_score_tfidf_3000.append(accuracy_score(y_test,pred))\n",
    "    pre_score_tfidf_3000.append(precision_score(y_test,pred))"
   ]
  },
  {
   "cell_type": "code",
   "execution_count": 189,
   "id": "1e39c7e1",
   "metadata": {},
   "outputs": [],
   "source": [
    "for i in clf:\n",
    "    rec2(i,x_train,x_test,y_train,y_test)"
   ]
  },
  {
   "cell_type": "code",
   "execution_count": 191,
   "id": "174ec59e",
   "metadata": {},
   "outputs": [],
   "source": [
    "performance['acc_score_tfidf_3000'] = acc_score_tfidf_3000\n",
    "performance['pre_score_tfidf_3000'] =pre_score_tfidf_3000"
   ]
  },
  {
   "cell_type": "code",
   "execution_count": 190,
   "id": "2a2a1f71",
   "metadata": {},
   "outputs": [],
   "source": [
    "performance['acc_score_tfidf'] = acc_score_tfidf\n",
    "performance['pre_score_tfidf'] =pre_score_tfidf"
   ]
  },
  {
   "cell_type": "code",
   "execution_count": 278,
   "id": "d0dad957",
   "metadata": {},
   "outputs": [
    {
     "data": {
      "text/html": [
       "<div>\n",
       "<style scoped>\n",
       "    .dataframe tbody tr th:only-of-type {\n",
       "        vertical-align: middle;\n",
       "    }\n",
       "\n",
       "    .dataframe tbody tr th {\n",
       "        vertical-align: top;\n",
       "    }\n",
       "\n",
       "    .dataframe thead th {\n",
       "        text-align: right;\n",
       "    }\n",
       "</style>\n",
       "<table border=\"1\" class=\"dataframe\">\n",
       "  <thead>\n",
       "    <tr style=\"text-align: right;\">\n",
       "      <th></th>\n",
       "      <th>model</th>\n",
       "      <th>acc_score</th>\n",
       "      <th>pre_score</th>\n",
       "      <th>acc_score_tfidf</th>\n",
       "      <th>pre_score_tfidf</th>\n",
       "      <th>acc_score_tfidf_3000</th>\n",
       "      <th>pre_score_tfidf_3000</th>\n",
       "      <th>acc_score_tfidf_with_scaler</th>\n",
       "      <th>pre_score_tfidf_with_scaler</th>\n",
       "      <th>acc_score_tfidf_3000_with_scaler</th>\n",
       "      <th>pre_score_tfidf_3000_with_scaler</th>\n",
       "      <th>acc_score_tfidf2</th>\n",
       "      <th>pre_score_tfidf2</th>\n",
       "    </tr>\n",
       "  </thead>\n",
       "  <tbody>\n",
       "    <tr>\n",
       "      <th>0</th>\n",
       "      <td>BernoulliNB()</td>\n",
       "      <td>0.970019</td>\n",
       "      <td>0.973451</td>\n",
       "      <td>0.970019</td>\n",
       "      <td>0.973451</td>\n",
       "      <td>0.983559</td>\n",
       "      <td>0.991870</td>\n",
       "      <td>0.970019</td>\n",
       "      <td>0.973451</td>\n",
       "      <td>0.983559</td>\n",
       "      <td>0.991870</td>\n",
       "      <td>0.970019</td>\n",
       "      <td>0.973451</td>\n",
       "    </tr>\n",
       "    <tr>\n",
       "      <th>1</th>\n",
       "      <td>MultinomialNB()</td>\n",
       "      <td>0.964217</td>\n",
       "      <td>0.834437</td>\n",
       "      <td>0.959381</td>\n",
       "      <td>1.000000</td>\n",
       "      <td>0.970986</td>\n",
       "      <td>1.000000</td>\n",
       "      <td>0.969052</td>\n",
       "      <td>0.863014</td>\n",
       "      <td>0.978723</td>\n",
       "      <td>0.946154</td>\n",
       "      <td>0.959381</td>\n",
       "      <td>1.000000</td>\n",
       "    </tr>\n",
       "    <tr>\n",
       "      <th>2</th>\n",
       "      <td>GaussianNB()</td>\n",
       "      <td>0.880077</td>\n",
       "      <td>0.531532</td>\n",
       "      <td>0.876209</td>\n",
       "      <td>0.523148</td>\n",
       "      <td>0.869439</td>\n",
       "      <td>0.506849</td>\n",
       "      <td>0.876209</td>\n",
       "      <td>0.521739</td>\n",
       "      <td>0.872340</td>\n",
       "      <td>0.512821</td>\n",
       "      <td>0.876209</td>\n",
       "      <td>0.523148</td>\n",
       "    </tr>\n",
       "    <tr>\n",
       "      <th>3</th>\n",
       "      <td>LogisticRegression()</td>\n",
       "      <td>0.978723</td>\n",
       "      <td>0.991525</td>\n",
       "      <td>0.946809</td>\n",
       "      <td>0.988235</td>\n",
       "      <td>0.956480</td>\n",
       "      <td>0.979381</td>\n",
       "      <td>0.965184</td>\n",
       "      <td>0.990385</td>\n",
       "      <td>0.974855</td>\n",
       "      <td>0.982759</td>\n",
       "      <td>0.946809</td>\n",
       "      <td>0.988235</td>\n",
       "    </tr>\n",
       "    <tr>\n",
       "      <th>4</th>\n",
       "      <td>(DecisionTreeClassifier(max_depth=1, random_st...</td>\n",
       "      <td>0.963250</td>\n",
       "      <td>0.938596</td>\n",
       "      <td>0.962282</td>\n",
       "      <td>0.954128</td>\n",
       "      <td>0.960348</td>\n",
       "      <td>0.936937</td>\n",
       "      <td>0.962282</td>\n",
       "      <td>0.954128</td>\n",
       "      <td>0.961315</td>\n",
       "      <td>0.937500</td>\n",
       "      <td>0.961315</td>\n",
       "      <td>0.945455</td>\n",
       "    </tr>\n",
       "    <tr>\n",
       "      <th>5</th>\n",
       "      <td>(DecisionTreeClassifier(random_state=576177308...</td>\n",
       "      <td>0.961315</td>\n",
       "      <td>0.922414</td>\n",
       "      <td>0.956480</td>\n",
       "      <td>0.866142</td>\n",
       "      <td>0.952611</td>\n",
       "      <td>0.839695</td>\n",
       "      <td>0.958414</td>\n",
       "      <td>0.874016</td>\n",
       "      <td>0.950677</td>\n",
       "      <td>0.848000</td>\n",
       "      <td>0.955513</td>\n",
       "      <td>0.848485</td>\n",
       "    </tr>\n",
       "    <tr>\n",
       "      <th>6</th>\n",
       "      <td>(ExtraTreeClassifier(random_state=989783386), ...</td>\n",
       "      <td>0.977756</td>\n",
       "      <td>0.983193</td>\n",
       "      <td>0.977756</td>\n",
       "      <td>0.983193</td>\n",
       "      <td>0.977756</td>\n",
       "      <td>0.975207</td>\n",
       "      <td>0.975822</td>\n",
       "      <td>0.982906</td>\n",
       "      <td>0.977756</td>\n",
       "      <td>0.975207</td>\n",
       "      <td>0.976789</td>\n",
       "      <td>0.983051</td>\n",
       "    </tr>\n",
       "    <tr>\n",
       "      <th>7</th>\n",
       "      <td>([DecisionTreeRegressor(criterion='friedman_ms...</td>\n",
       "      <td>0.959381</td>\n",
       "      <td>0.952830</td>\n",
       "      <td>0.961315</td>\n",
       "      <td>0.929825</td>\n",
       "      <td>0.955513</td>\n",
       "      <td>0.933962</td>\n",
       "      <td>0.959381</td>\n",
       "      <td>0.928571</td>\n",
       "      <td>0.953578</td>\n",
       "      <td>0.924528</td>\n",
       "      <td>0.961315</td>\n",
       "      <td>0.922414</td>\n",
       "    </tr>\n",
       "    <tr>\n",
       "      <th>8</th>\n",
       "      <td>(DecisionTreeClassifier(max_features='sqrt', r...</td>\n",
       "      <td>0.970019</td>\n",
       "      <td>0.981982</td>\n",
       "      <td>0.974855</td>\n",
       "      <td>1.000000</td>\n",
       "      <td>0.980658</td>\n",
       "      <td>0.991667</td>\n",
       "      <td>0.972921</td>\n",
       "      <td>0.982456</td>\n",
       "      <td>0.974855</td>\n",
       "      <td>0.982759</td>\n",
       "      <td>0.976789</td>\n",
       "      <td>1.000000</td>\n",
       "    </tr>\n",
       "    <tr>\n",
       "      <th>9</th>\n",
       "      <td>KNeighborsClassifier()</td>\n",
       "      <td>0.906190</td>\n",
       "      <td>1.000000</td>\n",
       "      <td>0.900387</td>\n",
       "      <td>1.000000</td>\n",
       "      <td>0.905222</td>\n",
       "      <td>1.000000</td>\n",
       "      <td>0.896518</td>\n",
       "      <td>1.000000</td>\n",
       "      <td>0.905222</td>\n",
       "      <td>0.976190</td>\n",
       "      <td>0.900387</td>\n",
       "      <td>1.000000</td>\n",
       "    </tr>\n",
       "    <tr>\n",
       "      <th>10</th>\n",
       "      <td>SVC()</td>\n",
       "      <td>0.970986</td>\n",
       "      <td>0.990909</td>\n",
       "      <td>0.966151</td>\n",
       "      <td>0.981308</td>\n",
       "      <td>0.972921</td>\n",
       "      <td>0.982456</td>\n",
       "      <td>0.966151</td>\n",
       "      <td>0.918699</td>\n",
       "      <td>0.976789</td>\n",
       "      <td>0.983051</td>\n",
       "      <td>0.966151</td>\n",
       "      <td>0.981308</td>\n",
       "    </tr>\n",
       "    <tr>\n",
       "      <th>11</th>\n",
       "      <td>DecisionTreeClassifier()</td>\n",
       "      <td>0.959381</td>\n",
       "      <td>0.900000</td>\n",
       "      <td>0.957447</td>\n",
       "      <td>0.850746</td>\n",
       "      <td>0.942940</td>\n",
       "      <td>0.796992</td>\n",
       "      <td>0.952611</td>\n",
       "      <td>0.815603</td>\n",
       "      <td>0.945841</td>\n",
       "      <td>0.792857</td>\n",
       "      <td>0.957447</td>\n",
       "      <td>0.845588</td>\n",
       "    </tr>\n",
       "    <tr>\n",
       "      <th>12</th>\n",
       "      <td>XGBClassifier(base_score=None, booster=None, c...</td>\n",
       "      <td>0.976789</td>\n",
       "      <td>0.967213</td>\n",
       "      <td>0.974855</td>\n",
       "      <td>0.937500</td>\n",
       "      <td>0.971954</td>\n",
       "      <td>0.943089</td>\n",
       "      <td>0.974855</td>\n",
       "      <td>0.937500</td>\n",
       "      <td>0.971954</td>\n",
       "      <td>0.943089</td>\n",
       "      <td>0.974855</td>\n",
       "      <td>0.937500</td>\n",
       "    </tr>\n",
       "  </tbody>\n",
       "</table>\n",
       "</div>"
      ],
      "text/plain": [
       "                                                model  acc_score  pre_score   \n",
       "0                                       BernoulliNB()   0.970019   0.973451  \\\n",
       "1                                     MultinomialNB()   0.964217   0.834437   \n",
       "2                                        GaussianNB()   0.880077   0.531532   \n",
       "3                                LogisticRegression()   0.978723   0.991525   \n",
       "4   (DecisionTreeClassifier(max_depth=1, random_st...   0.963250   0.938596   \n",
       "5   (DecisionTreeClassifier(random_state=576177308...   0.961315   0.922414   \n",
       "6   (ExtraTreeClassifier(random_state=989783386), ...   0.977756   0.983193   \n",
       "7   ([DecisionTreeRegressor(criterion='friedman_ms...   0.959381   0.952830   \n",
       "8   (DecisionTreeClassifier(max_features='sqrt', r...   0.970019   0.981982   \n",
       "9                              KNeighborsClassifier()   0.906190   1.000000   \n",
       "10                                              SVC()   0.970986   0.990909   \n",
       "11                           DecisionTreeClassifier()   0.959381   0.900000   \n",
       "12  XGBClassifier(base_score=None, booster=None, c...   0.976789   0.967213   \n",
       "\n",
       "    acc_score_tfidf  pre_score_tfidf  acc_score_tfidf_3000   \n",
       "0          0.970019         0.973451              0.983559  \\\n",
       "1          0.959381         1.000000              0.970986   \n",
       "2          0.876209         0.523148              0.869439   \n",
       "3          0.946809         0.988235              0.956480   \n",
       "4          0.962282         0.954128              0.960348   \n",
       "5          0.956480         0.866142              0.952611   \n",
       "6          0.977756         0.983193              0.977756   \n",
       "7          0.961315         0.929825              0.955513   \n",
       "8          0.974855         1.000000              0.980658   \n",
       "9          0.900387         1.000000              0.905222   \n",
       "10         0.966151         0.981308              0.972921   \n",
       "11         0.957447         0.850746              0.942940   \n",
       "12         0.974855         0.937500              0.971954   \n",
       "\n",
       "    pre_score_tfidf_3000  acc_score_tfidf_with_scaler   \n",
       "0               0.991870                     0.970019  \\\n",
       "1               1.000000                     0.969052   \n",
       "2               0.506849                     0.876209   \n",
       "3               0.979381                     0.965184   \n",
       "4               0.936937                     0.962282   \n",
       "5               0.839695                     0.958414   \n",
       "6               0.975207                     0.975822   \n",
       "7               0.933962                     0.959381   \n",
       "8               0.991667                     0.972921   \n",
       "9               1.000000                     0.896518   \n",
       "10              0.982456                     0.966151   \n",
       "11              0.796992                     0.952611   \n",
       "12              0.943089                     0.974855   \n",
       "\n",
       "    pre_score_tfidf_with_scaler  acc_score_tfidf_3000_with_scaler   \n",
       "0                      0.973451                          0.983559  \\\n",
       "1                      0.863014                          0.978723   \n",
       "2                      0.521739                          0.872340   \n",
       "3                      0.990385                          0.974855   \n",
       "4                      0.954128                          0.961315   \n",
       "5                      0.874016                          0.950677   \n",
       "6                      0.982906                          0.977756   \n",
       "7                      0.928571                          0.953578   \n",
       "8                      0.982456                          0.974855   \n",
       "9                      1.000000                          0.905222   \n",
       "10                     0.918699                          0.976789   \n",
       "11                     0.815603                          0.945841   \n",
       "12                     0.937500                          0.971954   \n",
       "\n",
       "    pre_score_tfidf_3000_with_scaler  acc_score_tfidf2  pre_score_tfidf2  \n",
       "0                           0.991870          0.970019          0.973451  \n",
       "1                           0.946154          0.959381          1.000000  \n",
       "2                           0.512821          0.876209          0.523148  \n",
       "3                           0.982759          0.946809          0.988235  \n",
       "4                           0.937500          0.961315          0.945455  \n",
       "5                           0.848000          0.955513          0.848485  \n",
       "6                           0.975207          0.976789          0.983051  \n",
       "7                           0.924528          0.961315          0.922414  \n",
       "8                           0.982759          0.976789          1.000000  \n",
       "9                           0.976190          0.900387          1.000000  \n",
       "10                          0.983051          0.966151          0.981308  \n",
       "11                          0.792857          0.957447          0.845588  \n",
       "12                          0.943089          0.974855          0.937500  "
      ]
     },
     "execution_count": 278,
     "metadata": {},
     "output_type": "execute_result"
    }
   ],
   "source": [
    "performance"
   ]
  },
  {
   "cell_type": "code",
   "execution_count": 232,
   "id": "dc81b04c",
   "metadata": {},
   "outputs": [],
   "source": [
    "acc_score_tfidf_3000_with_scaler = []\n",
    "pre_score_tfidf_3000_with_scaler = []\n",
    "def rec3(clf,x_train,x_test,y_train,y_test):\n",
    "    clf.fit(x_train,y_train)\n",
    "    pred = clf.predict(x_test)\n",
    "    acc_score_tfidf_3000_with_scaler.append(accuracy_score(y_test,pred))\n",
    "    pre_score_tfidf_3000_with_scaler.append(precision_score(y_test,pred))"
   ]
  },
  {
   "cell_type": "code",
   "execution_count": 233,
   "id": "6f7032d7",
   "metadata": {},
   "outputs": [],
   "source": [
    "for i in clf:\n",
    "    rec3(i,x_train,x_test,y_train,y_test)"
   ]
  },
  {
   "cell_type": "code",
   "execution_count": 234,
   "id": "b2c5d446",
   "metadata": {},
   "outputs": [],
   "source": [
    "performance['acc_score_tfidf_3000_with_scaler'] = acc_score_tfidf_3000_with_scaler\n",
    "performance['pre_score_tfidf_3000_with_scaler'] =pre_score_tfidf_3000_with_scaler"
   ]
  },
  {
   "cell_type": "code",
   "execution_count": 218,
   "id": "4f1e5a73",
   "metadata": {},
   "outputs": [],
   "source": [
    "acc_score_tfidf_with_scaler = []\n",
    "pre_score_tfidf_with_scaler = []\n",
    "def rec4(clf,x_train,x_test,y_train,y_test):\n",
    "    clf.fit(x_train,y_train)\n",
    "    pred = clf.predict(x_test)\n",
    "    acc_score_tfidf_with_scaler.append(accuracy_score(y_test,pred))\n",
    "    pre_score_tfidf_with_scaler.append(precision_score(y_test,pred))"
   ]
  },
  {
   "cell_type": "code",
   "execution_count": 219,
   "id": "4bc99b2d",
   "metadata": {},
   "outputs": [],
   "source": [
    "for i in clf:\n",
    "    rec4(i,x_train,x_test,y_train,y_test)"
   ]
  },
  {
   "cell_type": "code",
   "execution_count": 220,
   "id": "03948914",
   "metadata": {},
   "outputs": [],
   "source": [
    "performance['acc_score_tfidf_with_scaler'] = acc_score_tfidf_with_scaler\n",
    "performance['pre_score_tfidf_with_scaler'] =pre_score_tfidf_with_scaler"
   ]
  },
  {
   "cell_type": "code",
   "execution_count": 271,
   "id": "25167693",
   "metadata": {},
   "outputs": [
    {
     "data": {
      "text/html": [
       "<style>#sk-container-id-7 {color: black;background-color: white;}#sk-container-id-7 pre{padding: 0;}#sk-container-id-7 div.sk-toggleable {background-color: white;}#sk-container-id-7 label.sk-toggleable__label {cursor: pointer;display: block;width: 100%;margin-bottom: 0;padding: 0.3em;box-sizing: border-box;text-align: center;}#sk-container-id-7 label.sk-toggleable__label-arrow:before {content: \"▸\";float: left;margin-right: 0.25em;color: #696969;}#sk-container-id-7 label.sk-toggleable__label-arrow:hover:before {color: black;}#sk-container-id-7 div.sk-estimator:hover label.sk-toggleable__label-arrow:before {color: black;}#sk-container-id-7 div.sk-toggleable__content {max-height: 0;max-width: 0;overflow: hidden;text-align: left;background-color: #f0f8ff;}#sk-container-id-7 div.sk-toggleable__content pre {margin: 0.2em;color: black;border-radius: 0.25em;background-color: #f0f8ff;}#sk-container-id-7 input.sk-toggleable__control:checked~div.sk-toggleable__content {max-height: 200px;max-width: 100%;overflow: auto;}#sk-container-id-7 input.sk-toggleable__control:checked~label.sk-toggleable__label-arrow:before {content: \"▾\";}#sk-container-id-7 div.sk-estimator input.sk-toggleable__control:checked~label.sk-toggleable__label {background-color: #d4ebff;}#sk-container-id-7 div.sk-label input.sk-toggleable__control:checked~label.sk-toggleable__label {background-color: #d4ebff;}#sk-container-id-7 input.sk-hidden--visually {border: 0;clip: rect(1px 1px 1px 1px);clip: rect(1px, 1px, 1px, 1px);height: 1px;margin: -1px;overflow: hidden;padding: 0;position: absolute;width: 1px;}#sk-container-id-7 div.sk-estimator {font-family: monospace;background-color: #f0f8ff;border: 1px dotted black;border-radius: 0.25em;box-sizing: border-box;margin-bottom: 0.5em;}#sk-container-id-7 div.sk-estimator:hover {background-color: #d4ebff;}#sk-container-id-7 div.sk-parallel-item::after {content: \"\";width: 100%;border-bottom: 1px solid gray;flex-grow: 1;}#sk-container-id-7 div.sk-label:hover label.sk-toggleable__label {background-color: #d4ebff;}#sk-container-id-7 div.sk-serial::before {content: \"\";position: absolute;border-left: 1px solid gray;box-sizing: border-box;top: 0;bottom: 0;left: 50%;z-index: 0;}#sk-container-id-7 div.sk-serial {display: flex;flex-direction: column;align-items: center;background-color: white;padding-right: 0.2em;padding-left: 0.2em;position: relative;}#sk-container-id-7 div.sk-item {position: relative;z-index: 1;}#sk-container-id-7 div.sk-parallel {display: flex;align-items: stretch;justify-content: center;background-color: white;position: relative;}#sk-container-id-7 div.sk-item::before, #sk-container-id-7 div.sk-parallel-item::before {content: \"\";position: absolute;border-left: 1px solid gray;box-sizing: border-box;top: 0;bottom: 0;left: 50%;z-index: -1;}#sk-container-id-7 div.sk-parallel-item {display: flex;flex-direction: column;z-index: 1;position: relative;background-color: white;}#sk-container-id-7 div.sk-parallel-item:first-child::after {align-self: flex-end;width: 50%;}#sk-container-id-7 div.sk-parallel-item:last-child::after {align-self: flex-start;width: 50%;}#sk-container-id-7 div.sk-parallel-item:only-child::after {width: 0;}#sk-container-id-7 div.sk-dashed-wrapped {border: 1px dashed gray;margin: 0 0.4em 0.5em 0.4em;box-sizing: border-box;padding-bottom: 0.4em;background-color: white;}#sk-container-id-7 div.sk-label label {font-family: monospace;font-weight: bold;display: inline-block;line-height: 1.2em;}#sk-container-id-7 div.sk-label-container {text-align: center;}#sk-container-id-7 div.sk-container {/* jupyter's `normalize.less` sets `[hidden] { display: none; }` but bootstrap.min.css set `[hidden] { display: none !important; }` so we also need the `!important` here to be able to override the default hidden behavior on the sphinx rendered scikit-learn.org. See: https://github.com/scikit-learn/scikit-learn/issues/21755 */display: inline-block !important;position: relative;}#sk-container-id-7 div.sk-text-repr-fallback {display: none;}</style><div id=\"sk-container-id-7\" class=\"sk-top-container\"><div class=\"sk-text-repr-fallback\"><pre>RandomForestClassifier()</pre><b>In a Jupyter environment, please rerun this cell to show the HTML representation or trust the notebook. <br />On GitHub, the HTML representation is unable to render, please try loading this page with nbviewer.org.</b></div><div class=\"sk-container\" hidden><div class=\"sk-item\"><div class=\"sk-estimator sk-toggleable\"><input class=\"sk-toggleable__control sk-hidden--visually\" id=\"sk-estimator-id-7\" type=\"checkbox\" checked><label for=\"sk-estimator-id-7\" class=\"sk-toggleable__label sk-toggleable__label-arrow\">RandomForestClassifier</label><div class=\"sk-toggleable__content\"><pre>RandomForestClassifier()</pre></div></div></div></div></div>"
      ],
      "text/plain": [
       "RandomForestClassifier()"
      ]
     },
     "execution_count": 271,
     "metadata": {},
     "output_type": "execute_result"
    }
   ],
   "source": [
    "rad.fit(x_train,y_train)"
   ]
  },
  {
   "cell_type": "code",
   "execution_count": 272,
   "id": "0f5929d1",
   "metadata": {},
   "outputs": [],
   "source": [
    "predd = rad.predict(x_test)"
   ]
  },
  {
   "cell_type": "code",
   "execution_count": 273,
   "id": "1329e274",
   "metadata": {},
   "outputs": [
    {
     "data": {
      "text/plain": [
       "0.9729206963249516"
      ]
     },
     "execution_count": 273,
     "metadata": {},
     "output_type": "execute_result"
    }
   ],
   "source": [
    "accuracy_score(y_test,predd)"
   ]
  },
  {
   "cell_type": "code",
   "execution_count": 274,
   "id": "bd5eba6d",
   "metadata": {},
   "outputs": [
    {
     "data": {
      "text/plain": [
       "0.9910714285714286"
      ]
     },
     "execution_count": 274,
     "metadata": {},
     "output_type": "execute_result"
    }
   ],
   "source": [
    "precision_score(y_test,predd)"
   ]
  },
  {
   "cell_type": "code",
   "execution_count": 275,
   "id": "b518b6f5",
   "metadata": {},
   "outputs": [],
   "source": [
    "acc_score_tfidf2 = []\n",
    "pre_score_tfidf2 = []\n",
    "def rec5(clf,x_train,x_test,y_train,y_test):\n",
    "    clf.fit(x_train,y_train)\n",
    "    pred = clf.predict(x_test)\n",
    "    acc_score_tfidf2.append(accuracy_score(y_test,pred))\n",
    "    pre_score_tfidf2.append(precision_score(y_test,pred))"
   ]
  },
  {
   "cell_type": "code",
   "execution_count": 276,
   "id": "380ec99f",
   "metadata": {},
   "outputs": [],
   "source": [
    "for i in clf:\n",
    "    rec5(i,x_train,x_test,y_train,y_test)"
   ]
  },
  {
   "cell_type": "code",
   "execution_count": 277,
   "id": "3dd4984c",
   "metadata": {},
   "outputs": [],
   "source": [
    "performance['acc_score_tfidf2'] = acc_score_tfidf2\n",
    "performance['pre_score_tfidf2'] =pre_score_tfidf2"
   ]
  },
  {
   "cell_type": "code",
   "execution_count": 280,
   "id": "b3c85a9a",
   "metadata": {},
   "outputs": [
    {
     "data": {
      "text/html": [
       "<style>#sk-container-id-8 {color: black;background-color: white;}#sk-container-id-8 pre{padding: 0;}#sk-container-id-8 div.sk-toggleable {background-color: white;}#sk-container-id-8 label.sk-toggleable__label {cursor: pointer;display: block;width: 100%;margin-bottom: 0;padding: 0.3em;box-sizing: border-box;text-align: center;}#sk-container-id-8 label.sk-toggleable__label-arrow:before {content: \"▸\";float: left;margin-right: 0.25em;color: #696969;}#sk-container-id-8 label.sk-toggleable__label-arrow:hover:before {color: black;}#sk-container-id-8 div.sk-estimator:hover label.sk-toggleable__label-arrow:before {color: black;}#sk-container-id-8 div.sk-toggleable__content {max-height: 0;max-width: 0;overflow: hidden;text-align: left;background-color: #f0f8ff;}#sk-container-id-8 div.sk-toggleable__content pre {margin: 0.2em;color: black;border-radius: 0.25em;background-color: #f0f8ff;}#sk-container-id-8 input.sk-toggleable__control:checked~div.sk-toggleable__content {max-height: 200px;max-width: 100%;overflow: auto;}#sk-container-id-8 input.sk-toggleable__control:checked~label.sk-toggleable__label-arrow:before {content: \"▾\";}#sk-container-id-8 div.sk-estimator input.sk-toggleable__control:checked~label.sk-toggleable__label {background-color: #d4ebff;}#sk-container-id-8 div.sk-label input.sk-toggleable__control:checked~label.sk-toggleable__label {background-color: #d4ebff;}#sk-container-id-8 input.sk-hidden--visually {border: 0;clip: rect(1px 1px 1px 1px);clip: rect(1px, 1px, 1px, 1px);height: 1px;margin: -1px;overflow: hidden;padding: 0;position: absolute;width: 1px;}#sk-container-id-8 div.sk-estimator {font-family: monospace;background-color: #f0f8ff;border: 1px dotted black;border-radius: 0.25em;box-sizing: border-box;margin-bottom: 0.5em;}#sk-container-id-8 div.sk-estimator:hover {background-color: #d4ebff;}#sk-container-id-8 div.sk-parallel-item::after {content: \"\";width: 100%;border-bottom: 1px solid gray;flex-grow: 1;}#sk-container-id-8 div.sk-label:hover label.sk-toggleable__label {background-color: #d4ebff;}#sk-container-id-8 div.sk-serial::before {content: \"\";position: absolute;border-left: 1px solid gray;box-sizing: border-box;top: 0;bottom: 0;left: 50%;z-index: 0;}#sk-container-id-8 div.sk-serial {display: flex;flex-direction: column;align-items: center;background-color: white;padding-right: 0.2em;padding-left: 0.2em;position: relative;}#sk-container-id-8 div.sk-item {position: relative;z-index: 1;}#sk-container-id-8 div.sk-parallel {display: flex;align-items: stretch;justify-content: center;background-color: white;position: relative;}#sk-container-id-8 div.sk-item::before, #sk-container-id-8 div.sk-parallel-item::before {content: \"\";position: absolute;border-left: 1px solid gray;box-sizing: border-box;top: 0;bottom: 0;left: 50%;z-index: -1;}#sk-container-id-8 div.sk-parallel-item {display: flex;flex-direction: column;z-index: 1;position: relative;background-color: white;}#sk-container-id-8 div.sk-parallel-item:first-child::after {align-self: flex-end;width: 50%;}#sk-container-id-8 div.sk-parallel-item:last-child::after {align-self: flex-start;width: 50%;}#sk-container-id-8 div.sk-parallel-item:only-child::after {width: 0;}#sk-container-id-8 div.sk-dashed-wrapped {border: 1px dashed gray;margin: 0 0.4em 0.5em 0.4em;box-sizing: border-box;padding-bottom: 0.4em;background-color: white;}#sk-container-id-8 div.sk-label label {font-family: monospace;font-weight: bold;display: inline-block;line-height: 1.2em;}#sk-container-id-8 div.sk-label-container {text-align: center;}#sk-container-id-8 div.sk-container {/* jupyter's `normalize.less` sets `[hidden] { display: none; }` but bootstrap.min.css set `[hidden] { display: none !important; }` so we also need the `!important` here to be able to override the default hidden behavior on the sphinx rendered scikit-learn.org. See: https://github.com/scikit-learn/scikit-learn/issues/21755 */display: inline-block !important;position: relative;}#sk-container-id-8 div.sk-text-repr-fallback {display: none;}</style><div id=\"sk-container-id-8\" class=\"sk-top-container\"><div class=\"sk-text-repr-fallback\"><pre>RandomForestClassifier()</pre><b>In a Jupyter environment, please rerun this cell to show the HTML representation or trust the notebook. <br />On GitHub, the HTML representation is unable to render, please try loading this page with nbviewer.org.</b></div><div class=\"sk-container\" hidden><div class=\"sk-item\"><div class=\"sk-estimator sk-toggleable\"><input class=\"sk-toggleable__control sk-hidden--visually\" id=\"sk-estimator-id-8\" type=\"checkbox\" checked><label for=\"sk-estimator-id-8\" class=\"sk-toggleable__label sk-toggleable__label-arrow\">RandomForestClassifier</label><div class=\"sk-toggleable__content\"><pre>RandomForestClassifier()</pre></div></div></div></div></div>"
      ],
      "text/plain": [
       "RandomForestClassifier()"
      ]
     },
     "execution_count": 280,
     "metadata": {},
     "output_type": "execute_result"
    }
   ],
   "source": [
    "performance.iloc[8]['model']"
   ]
  },
  {
   "cell_type": "code",
   "execution_count": 281,
   "id": "cc7c8568",
   "metadata": {},
   "outputs": [],
   "source": [
    "#random forest classifier with tfidf vectorization"
   ]
  },
  {
   "cell_type": "code",
   "execution_count": 282,
   "id": "8e32b1aa",
   "metadata": {},
   "outputs": [],
   "source": [
    "import pickle"
   ]
  },
  {
   "cell_type": "code",
   "execution_count": 283,
   "id": "497e0432",
   "metadata": {},
   "outputs": [],
   "source": [
    "pickle.dump(tfidf,open('vectorization.pkl','wb'))\n",
    "pickle.dump(rad,open('model.pkl','wb'))"
   ]
  },
  {
   "cell_type": "code",
   "execution_count": null,
   "id": "890cfc88",
   "metadata": {},
   "outputs": [],
   "source": []
  }
 ],
 "metadata": {
  "kernelspec": {
   "display_name": "Python 3 (ipykernel)",
   "language": "python",
   "name": "python3"
  },
  "language_info": {
   "codemirror_mode": {
    "name": "ipython",
    "version": 3
   },
   "file_extension": ".py",
   "mimetype": "text/x-python",
   "name": "python",
   "nbconvert_exporter": "python",
   "pygments_lexer": "ipython3",
   "version": "3.10.4"
  }
 },
 "nbformat": 4,
 "nbformat_minor": 5
}
